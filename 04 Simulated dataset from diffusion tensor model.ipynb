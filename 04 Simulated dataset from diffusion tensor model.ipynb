{
 "cells": [
  {
   "cell_type": "markdown",
   "id": "b751f5f2",
   "metadata": {},
   "source": [
    "# Simulated dataset from diffusion tensor model"
   ]
  },
  {
   "cell_type": "code",
   "execution_count": 1,
   "id": "9cc76475",
   "metadata": {},
   "outputs": [],
   "source": [
    "import matplotlib.pyplot as plt\n",
    "\n",
    "from dataloader import load_dt_simulated\n",
    "from preprocessing.data_augmentation import extend_dataset_with_origin_reflections"
   ]
  },
  {
   "cell_type": "markdown",
   "id": "a56dbef3",
   "metadata": {},
   "source": [
    "The dataset is simulated by using the diffusion tensor model backwards i.e. instead of estimating the model parameters, the parameters are given and the diffusion-weighted signals are computed instead. Finally Gaussian noise is added to the signals.\n",
    "\n",
    "There are several hyperparameters that can be used to produce a wide variety of datasets.\n",
    "- Number of data points to be generated\n",
    "- The non-zero b-value\n",
    "- The non-diffusion-weighted $b=0$ signal\n",
    "- Whether to simulate $b=0$ measurements\n",
    "- Variance of Gaussian noise\n",
    "- Diffusion tensor eigenvalues\n",
    "- Diffusion tensor eigenvectors\n",
    "- Random generator seed\n",
    "\n",
    "The diffusion tensor is computed by employing the eigendecomposition backwards (Eq 1):\n",
    "\n",
    "$$D=Q \\Lambda Q^{-1}$$\n",
    "\n",
    "wher $D$ is the diffusion tensor, $Q$ is a square matrix with eigenvectors as its columns and $\\Lambda$ is a diagonal matrix with eigenvalues on its diagonal. The eigenvalue $\\Lambda_{ii}$ corresponds to the eigenvector in $i$th column of $Q$ (the eigenvectors are orthornormal vectors and the eigenvalues are sorted in descending order).\n",
    "\n",
    "The eigenvalues were chosen to be the average of the most anisotropic voxels in the HCP dataset. The anisotropy was determined by fitting the DT model and computing the fractional anisotropy."
   ]
  },
  {
   "cell_type": "code",
   "execution_count": 2,
   "id": "ac45ecc4",
   "metadata": {},
   "outputs": [
    {
     "data": {
      "text/plain": [
       "array([2295.83940752, 1511.0890323 , 2385.58602583, 1583.00759985,\n",
       "        599.54279978,  717.19682157,  310.16328438, 1247.62237334,\n",
       "       1732.63837488,  245.09640681, 1706.68229243,  226.57508473,\n",
       "        800.23844273, 1183.10055806, 1027.66233665, 1496.52189732,\n",
       "        832.51461048, 1566.71687448,  296.29402697, 1916.66290805,\n",
       "       1526.65510714, 1206.58734122, 1683.24998276, 2286.81515774,\n",
       "        192.18607102, 1819.48187139,  283.70422249,  430.16479297,\n",
       "       1049.84481795, 1087.49446887, 1923.88268677, 2374.67524122,\n",
       "        901.93374236,  591.57526072, 2135.37704618,  479.56988524,\n",
       "       2390.33875272, 2581.59477005, 1989.21809801,  571.27230937,\n",
       "       2172.31108632, 2396.29419094, 1330.41555645,  904.37880183,\n",
       "        684.25601354,  995.90109699,  865.41887903,  700.94613068,\n",
       "       2324.3829332 , 1864.61709259, 2251.06052738,  521.88656135,\n",
       "       1576.50923199, 2139.24023103,  419.57944172, 1292.99494676,\n",
       "        618.47998195,  778.79231827, 2470.8914474 , 2057.10038556,\n",
       "        764.57863271,  861.41632688,  598.20526766, 2359.58312129,\n",
       "        729.67512107, 2302.48588597, 1311.24120316, 1277.81035507,\n",
       "       1572.11807276,  636.78618204, 2126.34195461,  621.32777864,\n",
       "       1736.8315557 ,  735.5757896 , 2097.28094436,  464.63538675,\n",
       "       2552.44090935,  990.92247318, 1684.30770011, 1958.01479418,\n",
       "       1596.93378416, 1884.16275079,  715.80171891,  869.10643367,\n",
       "       1352.89869842,  936.07077914, 2306.07611448, 1009.74983911,\n",
       "       2620.35694781,  753.75514411])"
      ]
     },
     "execution_count": 2,
     "metadata": {},
     "output_type": "execute_result"
    }
   ],
   "source": [
    "bvals, qhat, dwis = load_dt_simulated.load_dt_simulated(number_of_data_points=90, b_value=1000, b_0_signal=3000, include_b_0=False, noise_standard_deviation=100, eigenvalues=(0.00260348, 0.00026138, 0.00013102), eigenvectors=None, seed=1)\n",
    "\n",
    "dwis"
   ]
  },
  {
   "cell_type": "markdown",
   "id": "c9189cfd",
   "metadata": {},
   "source": [
    "## Plot the simulated dataset"
   ]
  },
  {
   "cell_type": "code",
   "execution_count": 3,
   "id": "017a6e79",
   "metadata": {},
   "outputs": [],
   "source": [
    "%matplotlib qt\n",
    "\n",
    "voxel = dwis\n",
    "\n",
    "fig = plt.figure()\n",
    "ax = fig.add_subplot(111, projection=\"3d\")\n",
    "ax.scatter(qhat[0],qhat[1],qhat[2],c=voxel,vmin=1000,vmax=2000)\n",
    "plt.show()"
   ]
  },
  {
   "cell_type": "markdown",
   "id": "ff15390b",
   "metadata": {},
   "source": [
    "## Pre-processing"
   ]
  },
  {
   "cell_type": "markdown",
   "id": "31585618",
   "metadata": {},
   "source": [
    "Add reflections through the origin to the dataset"
   ]
  },
  {
   "cell_type": "code",
   "execution_count": 4,
   "id": "82273261",
   "metadata": {},
   "outputs": [],
   "source": [
    "bvals, qhat, dwis = extend_dataset_with_origin_reflections(bvals, qhat, dwis)"
   ]
  },
  {
   "cell_type": "markdown",
   "id": "f911dd2b",
   "metadata": {},
   "source": [
    "## Plot the pre-processed dataset"
   ]
  },
  {
   "cell_type": "code",
   "execution_count": 5,
   "id": "2102c9c0",
   "metadata": {},
   "outputs": [],
   "source": [
    "voxel = dwis\n",
    "\n",
    "fig = plt.figure()\n",
    "ax = fig.add_subplot(111, projection=\"3d\")\n",
    "ax.scatter(qhat[0],qhat[1],qhat[2],c=voxel,vmin=1000,vmax=2000)\n",
    "plt.show()"
   ]
  }
 ],
 "metadata": {
  "kernelspec": {
   "display_name": "Python 3 (ipykernel)",
   "language": "python",
   "name": "python3"
  },
  "language_info": {
   "codemirror_mode": {
    "name": "ipython",
    "version": 3
   },
   "file_extension": ".py",
   "mimetype": "text/x-python",
   "name": "python",
   "nbconvert_exporter": "python",
   "pygments_lexer": "ipython3",
   "version": "3.10.11"
  }
 },
 "nbformat": 4,
 "nbformat_minor": 5
}
