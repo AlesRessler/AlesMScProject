{
 "cells": [
  {
   "cell_type": "markdown",
   "id": "e3c2a839",
   "metadata": {},
   "source": [
    "## Imports"
   ]
  },
  {
   "cell_type": "code",
   "execution_count": 1,
   "id": "93f02213",
   "metadata": {},
   "outputs": [],
   "source": [
    "import torch\n",
    "import torch.nn as nn\n",
    "import torch.optim as optim\n",
    "import numpy as np\n",
    "import matplotlib.pyplot as plt\n",
    "\n",
    "from models.neuralnetwork.fully_connected import FullyConnected4Layers\n",
    "from preprocessing.data_augmentation import extend_dataset_with_origin_reflections\n",
    "from preprocessing.data_transformations import convert_coords_from_cartesian_to_spherical\n",
    "from sphericalharmonics.spherical_fourier_transform import get_spherical_fourier_transform\n",
    "from sphericalharmonics.spherical_fourier_transform import get_design_matrix"
   ]
  },
  {
   "cell_type": "markdown",
   "id": "7a80e376",
   "metadata": {},
   "source": [
    "# Multi-layer perceptron for fODF estimation"
   ]
  },
  {
   "cell_type": "markdown",
   "id": "50aa7ff6",
   "metadata": {},
   "source": [
    "## Load dataset"
   ]
  },
  {
   "cell_type": "code",
   "execution_count": 2,
   "id": "ba09699b",
   "metadata": {},
   "outputs": [],
   "source": [
    "all_dwis = np.load('./data/planar/no_rotation/diffusion_weighted_signals.npy')\n",
    "all_fODFs = np.load('./data/planar/no_rotation/fODF_sh_coefficients.npy')\n",
    "all_qhat = np.load('./data/planar/no_rotation/gradient_orientations.npy')\n",
    "all_bvals = np.load('./data/planar/no_rotation/b_values.npy')\n",
    "all_dwis_sh_coefficients = []"
   ]
  },
  {
   "cell_type": "markdown",
   "id": "bac34a9b",
   "metadata": {},
   "source": [
    "## Pre-processing"
   ]
  },
  {
   "cell_type": "markdown",
   "id": "245a390e",
   "metadata": {},
   "source": [
    "The data is pre-processed as usual and the diffusion weighted signals are transformed to SH expansion coefficients. These coefficients are then used as the network input and the network output is the fODF coefficients."
   ]
  },
  {
   "cell_type": "code",
   "execution_count": 3,
   "id": "f6c2b81b",
   "metadata": {},
   "outputs": [
    {
     "ename": "KeyboardInterrupt",
     "evalue": "",
     "output_type": "error",
     "traceback": [
      "\u001b[0;31m---------------------------------------------------------------------------\u001b[0m",
      "\u001b[0;31mKeyboardInterrupt\u001b[0m                         Traceback (most recent call last)",
      "Cell \u001b[0;32mIn[3], line 6\u001b[0m\n\u001b[1;32m      3\u001b[0m bvals, qhat, dwis \u001b[38;5;241m=\u001b[39m extend_dataset_with_origin_reflections(all_bvals[i], all_qhat[i], all_dwis[i])\n\u001b[1;32m      4\u001b[0m thetas, phis \u001b[38;5;241m=\u001b[39m convert_coords_from_cartesian_to_spherical(qhat)\n\u001b[0;32m----> 6\u001b[0m design_matrix \u001b[38;5;241m=\u001b[39m \u001b[43mget_design_matrix\u001b[49m\u001b[43m(\u001b[49m\u001b[43mmax_degree\u001b[49m\u001b[43m \u001b[49m\u001b[38;5;241;43m=\u001b[39;49m\u001b[43m \u001b[49m\u001b[38;5;241;43m8\u001b[39;49m\u001b[43m,\u001b[49m\u001b[43m \u001b[49m\u001b[43mnumber_of_samples\u001b[49m\u001b[38;5;241;43m=\u001b[39;49m\u001b[38;5;28;43mlen\u001b[39;49m\u001b[43m(\u001b[49m\u001b[43mdwis\u001b[49m\u001b[43m)\u001b[49m\u001b[43m,\u001b[49m\u001b[43m \u001b[49m\u001b[43mthetas\u001b[49m\u001b[38;5;241;43m=\u001b[39;49m\u001b[43mthetas\u001b[49m\u001b[43m,\u001b[49m\u001b[43m \u001b[49m\u001b[43mphis\u001b[49m\u001b[38;5;241;43m=\u001b[39;49m\u001b[43mphis\u001b[49m\u001b[43m)\u001b[49m\n\u001b[1;32m      7\u001b[0m spherical_fourier_transform \u001b[38;5;241m=\u001b[39m get_spherical_fourier_transform(design_matrix)\n\u001b[1;32m      8\u001b[0m expansion_coefficients \u001b[38;5;241m=\u001b[39m spherical_fourier_transform \u001b[38;5;241m@\u001b[39m dwis\n",
      "File \u001b[0;32m~/Documents/MSc-Project/AlesMScProject/sphericalharmonics/spherical_fourier_transform.py:25\u001b[0m, in \u001b[0;36mget_design_matrix\u001b[0;34m(max_degree, number_of_samples, thetas, phis)\u001b[0m\n\u001b[1;32m     23\u001b[0m \u001b[38;5;28;01mfor\u001b[39;00m l \u001b[38;5;129;01min\u001b[39;00m \u001b[38;5;28mrange\u001b[39m(\u001b[38;5;241m0\u001b[39m, max_degree \u001b[38;5;241m+\u001b[39m \u001b[38;5;241m1\u001b[39m, \u001b[38;5;241m2\u001b[39m):\n\u001b[1;32m     24\u001b[0m     \u001b[38;5;28;01mfor\u001b[39;00m m \u001b[38;5;129;01min\u001b[39;00m \u001b[38;5;28mrange\u001b[39m(\u001b[38;5;241m-\u001b[39ml, l \u001b[38;5;241m+\u001b[39m \u001b[38;5;241m1\u001b[39m):\n\u001b[0;32m---> 25\u001b[0m         design_matrix[:, get_storage_index(l,m)] \u001b[38;5;241m=\u001b[39m \u001b[43mreal_and_antipodal_spherical_harmonic_basis\u001b[49m\u001b[43m(\u001b[49m\u001b[43ml\u001b[49m\u001b[43m,\u001b[49m\u001b[43m \u001b[49m\u001b[43mm\u001b[49m\u001b[43m,\u001b[49m\u001b[43m \u001b[49m\u001b[43mthetas\u001b[49m\u001b[43m,\u001b[49m\u001b[43m \u001b[49m\u001b[43mphis\u001b[49m\u001b[43m)\u001b[49m\n\u001b[1;32m     27\u001b[0m \u001b[38;5;28;01mreturn\u001b[39;00m design_matrix\n",
      "File \u001b[0;32m~/Documents/MSc-Project/AlesMScProject/sphericalharmonics/basis_functions.py:20\u001b[0m, in \u001b[0;36mreal_and_antipodal_spherical_harmonic_basis\u001b[0;34m(l, m, thetas, phis)\u001b[0m\n\u001b[1;32m     18\u001b[0m     \u001b[38;5;28;01mreturn\u001b[39;00m np\u001b[38;5;241m.\u001b[39mzeros(\u001b[38;5;28mlen\u001b[39m(thetas))\n\u001b[1;32m     19\u001b[0m \u001b[38;5;28;01mif\u001b[39;00m m \u001b[38;5;241m<\u001b[39m \u001b[38;5;241m0\u001b[39m:\n\u001b[0;32m---> 20\u001b[0m     \u001b[38;5;28;01mreturn\u001b[39;00m np\u001b[38;5;241m.\u001b[39msqrt(\u001b[38;5;241m2\u001b[39m) \u001b[38;5;241m*\u001b[39m \u001b[43msph_harm\u001b[49m\u001b[43m(\u001b[49m\u001b[38;5;241;43m-\u001b[39;49m\u001b[43mm\u001b[49m\u001b[43m,\u001b[49m\u001b[43m \u001b[49m\u001b[43ml\u001b[49m\u001b[43m,\u001b[49m\u001b[43m \u001b[49m\u001b[43mphis\u001b[49m\u001b[43m,\u001b[49m\u001b[43m \u001b[49m\u001b[43mthetas\u001b[49m\u001b[43m)\u001b[49m\u001b[38;5;241m.\u001b[39mimag\n\u001b[1;32m     21\u001b[0m \u001b[38;5;28;01mif\u001b[39;00m m \u001b[38;5;241m==\u001b[39m \u001b[38;5;241m0\u001b[39m:\n\u001b[1;32m     22\u001b[0m     \u001b[38;5;28;01mreturn\u001b[39;00m sph_harm(m, l, phis, thetas)\u001b[38;5;241m.\u001b[39mreal\n",
      "\u001b[0;31mKeyboardInterrupt\u001b[0m: "
     ]
    }
   ],
   "source": [
    "for i in range(len(all_dwis)):\n",
    "    \n",
    "    bvals, qhat, dwis = extend_dataset_with_origin_reflections(all_bvals[i], all_qhat[i], all_dwis[i])\n",
    "    thetas, phis = convert_coords_from_cartesian_to_spherical(qhat)\n",
    "    \n",
    "    design_matrix = get_design_matrix(max_degree = 8, number_of_samples=len(dwis), thetas=thetas, phis=phis)\n",
    "    spherical_fourier_transform = get_spherical_fourier_transform(design_matrix)\n",
    "    expansion_coefficients = spherical_fourier_transform @ dwis\n",
    "    \n",
    "    all_dwis_sh_coefficients.append(expansion_coefficients)\n",
    "\n",
    "all_dwis_sh_coefficients = np.array(all_dwis_sh_coefficients)"
   ]
  },
  {
   "cell_type": "code",
   "execution_count": 10,
   "id": "bc60642f",
   "metadata": {},
   "outputs": [],
   "source": [
    "np.save(\"./data/planar/no_rotation/diffusion_weighted_signals_sh_coefficients\", all_dwis_sh_coefficients)"
   ]
  },
  {
   "cell_type": "code",
   "execution_count": 3,
   "id": "f567fa07",
   "metadata": {},
   "outputs": [
    {
     "name": "stdout",
     "output_type": "stream",
     "text": [
      "0\n",
      "1000\n",
      "2000\n",
      "3000\n",
      "4000\n",
      "5000\n",
      "6000\n",
      "7000\n",
      "8000\n",
      "9000\n"
     ]
    },
    {
     "data": {
      "image/png": "[encoded data removed]",
      "text/plain": [
       "<Figure size 640x480 with 1 Axes>"
      ]
     },
     "metadata": {},
     "output_type": "display_data"
    }
   ],
   "source": [
    "all_dwis_sh_coefficients = np.load(\"./data/planar/no_rotation/diffusion_weighted_signals_sh_coefficients.npy\")\n",
    "\n",
    "# Hyperparameters\n",
    "input_size = 45\n",
    "output_size = 45\n",
    "learning_rate = 0.001\n",
    "final_learning_rate = 0.0001\n",
    "batch_size = 1000\n",
    "num_batches = 10000\n",
    "num_batches_lr_reduction = 10000\n",
    "\n",
    "# Create the neural network\n",
    "model = FullyConnected4Layers(input_size, output_size)\n",
    "\n",
    "# Loss function and optimizer\n",
    "criterion = nn.MSELoss()\n",
    "optimizer = optim.Adam(model.parameters(), lr=learning_rate)\n",
    "\n",
    "# Data arrays\n",
    "train_data = all_dwis_sh_coefficients[:60000]\n",
    "train_targets = all_fODFs[:60000]\n",
    "val_data = all_dwis_sh_coefficients[60000:80000]\n",
    "val_targets = all_fODFs[60000:80000]\n",
    "test_data = all_dwis_sh_coefficients[80000:]\n",
    "test_targets = all_fODFs[80000:]\n",
    "\n",
    "# Lists to store errors for plotting\n",
    "train_errors = []\n",
    "val_errors = []\n",
    "test_errors = []\n",
    "\n",
    "device = torch.device('mps')\n",
    "model.to(device)\n",
    "\n",
    "# Training loop\n",
    "for batch in range(num_batches):\n",
    "    \n",
    "    if(batch % 1000 == 0):\n",
    "        print(batch)\n",
    "    \n",
    "    # Adjust learning rate\n",
    "    if batch == num_batches - num_batches_lr_reduction:\n",
    "        for param_group in optimizer.param_groups:\n",
    "            param_group['lr'] = final_learning_rate\n",
    "\n",
    "    indices = torch.randperm(len(train_data))[:batch_size]\n",
    "\n",
    "    inputs = torch.FloatTensor(train_data[indices])\n",
    "    targets = torch.FloatTensor(train_targets[indices])\n",
    "    \n",
    "    inputs = inputs.to(device)\n",
    "    targets = targets.to(device)\n",
    "\n",
    "    # Forward pass\n",
    "    outputs = model(inputs)\n",
    "    loss = criterion(outputs, targets)\n",
    "\n",
    "    # Backpropagation and optimization\n",
    "    optimizer.zero_grad()\n",
    "    loss.backward()\n",
    "    optimizer.step()\n",
    "\n",
    "    train_errors.append(loss.item())\n",
    "\n",
    "    # Calculate validation and test errors\n",
    "    if batch % 100 == 0:\n",
    "        with torch.no_grad():\n",
    "            val_inputs = torch.FloatTensor(val_data).to(device)\n",
    "            val_target = torch.FloatTensor(val_targets).to(device)\n",
    "            val_outputs = model(val_inputs)\n",
    "            val_loss = criterion(val_outputs, val_target)\n",
    "            val_errors.append(val_loss.item())\n",
    "\n",
    "            test_inputs = torch.FloatTensor(test_data).to(device)\n",
    "            test_target = torch.FloatTensor(test_targets).to(device)\n",
    "            test_outputs = model(test_inputs)\n",
    "            test_loss = criterion(test_outputs, test_target)\n",
    "            test_errors.append(test_loss.item())\n",
    "\n",
    "# Plot errors\n",
    "plt.plot(train_errors, label='Train Error')\n",
    "plt.plot(val_errors, label='Validation Error')\n",
    "plt.plot(test_errors, label='Test Error')\n",
    "plt.xlabel('Batches')\n",
    "plt.ylabel('Mean Squared Error')\n",
    "plt.legend()\n",
    "plt.show()\n",
    "\n",
    "# Save model weights\n",
    "#torch.save(model.state_dict(), './model_weights.pth')\n"
   ]
  },
  {
   "cell_type": "markdown",
   "id": "579551d6",
   "metadata": {},
   "source": [
    "## Load data with rotations"
   ]
  },
  {
   "cell_type": "code",
   "execution_count": 34,
   "id": "2a7a271c",
   "metadata": {},
   "outputs": [],
   "source": [
    "all_dwis = np.load('./data/planar/rotation/diffusion_weighted_signals.npy')\n",
    "all_fODFs = np.load('./data/planar/rotation/fODF_sh_coefficients.npy')\n",
    "all_qhat = np.load('./data/planar/rotation/gradient_orientations.npy')\n",
    "all_bvals = np.load('./data/planar/rotation/b_values.npy')\n",
    "all_dwis_sh_coefficients = []\n",
    "\n",
    "for i in range(len(all_dwis)):\n",
    "    bvals, qhat, dwis = extend_dataset_with_origin_reflections(all_bvals[i], all_qhat[i], all_dwis[i])\n",
    "    thetas, phis = convert_coords_from_cartesian_to_spherical(qhat)\n",
    "    \n",
    "    design_matrix = get_design_matrix(max_degree = 8, number_of_samples=len(dwis), thetas=thetas, phis=phis)\n",
    "    spherical_fourier_transform = get_spherical_fourier_transform(design_matrix)\n",
    "    expansion_coefficients = spherical_fourier_transform @ dwis\n",
    "    \n",
    "    all_dwis_sh_coefficients.append(expansion_coefficients)\n",
    "\n",
    "all_dwis_sh_coefficients = np.array(all_dwis_sh_coefficients)\n",
    "\n",
    "np.save(\"./data/planar/rotation/diffusion_weighted_signals_sh_coefficients\", all_dwis_sh_coefficients)"
   ]
  },
  {
   "cell_type": "code",
   "execution_count": 35,
   "id": "3d3f119d",
   "metadata": {},
   "outputs": [],
   "source": [
    "all_dwis_sh_coefficients = np.load(\"./data/planar/no_rotation/diffusion_weighted_signals_sh_coefficients.npy\")"
   ]
  },
  {
   "cell_type": "code",
   "execution_count": 36,
   "id": "58e3c181",
   "metadata": {},
   "outputs": [
    {
     "data": {
      "text/plain": [
       "0.06841892004013062"
      ]
     },
     "execution_count": 36,
     "metadata": {},
     "output_type": "execute_result"
    }
   ],
   "source": [
    "rotated_inputs = torch.FloatTensor(all_dwis_sh_coefficients).to(device)\n",
    "rotated_target = torch.FloatTensor(all_fODFs).to(device)\n",
    "rotated_outputs = model(rotated_inputs)\n",
    "rotated_loss = criterion(rotated_outputs, rotated_target)\n",
    "rotated_loss.item()"
   ]
  },
  {
   "cell_type": "code",
   "execution_count": 38,
   "id": "d50f12d1",
   "metadata": {},
   "outputs": [
    {
     "data": {
      "text/plain": [
       "7.341951277339831e-05"
      ]
     },
     "execution_count": 38,
     "metadata": {},
     "output_type": "execute_result"
    }
   ],
   "source": [
    "test_errors[-1]"
   ]
  },
  {
   "cell_type": "code",
   "execution_count": 39,
   "id": "8c05f018",
   "metadata": {},
   "outputs": [
    {
     "data": {
      "text/plain": [
       "931.8901400408158"
      ]
     },
     "execution_count": 39,
     "metadata": {},
     "output_type": "execute_result"
    }
   ],
   "source": [
    "rotated_loss.item() / test_errors[-1]"
   ]
  }
 ],
 "metadata": {
  "kernelspec": {
   "display_name": "Python 3 (ipykernel)",
   "language": "python",
   "name": "python3"
  },
  "language_info": {
   "codemirror_mode": {
    "name": "ipython",
    "version": 3
   },
   "file_extension": ".py",
   "mimetype": "text/x-python",
   "name": "python",
   "nbconvert_exporter": "python",
   "pygments_lexer": "ipython3",
   "version": "3.10.12"
  }
 },
 "nbformat": 4,
 "nbformat_minor": 5
}
