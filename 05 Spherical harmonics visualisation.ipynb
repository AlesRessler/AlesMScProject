{
 "cells": [
  {
   "cell_type": "markdown",
   "id": "5ced7967",
   "metadata": {},
   "source": [
    "# Spherical harmonics visualisation"
   ]
  },
  {
   "cell_type": "code",
   "execution_count": 1,
   "id": "ef0f5520",
   "metadata": {},
   "outputs": [],
   "source": [
    "import matplotlib.pyplot as plt\n",
    "from matplotlib import cm, colors\n",
    "from mpl_toolkits.mplot3d import Axes3D\n",
    "import numpy as np\n",
    "from scipy.special import sph_harm\n",
    "\n",
    "from visualization.spherical_harmonics_visualization import plotAllHarmonicsUpToDegree\n",
    "from visualization.spherical_functions_visualisation import get_spherical_function_values_from_spherical_expansion\n",
    "from dataloader import loadhcp\n",
    "from preprocessing.data_augmentation import extend_dataset_with_origin_reflections\n",
    "from preprocessing.data_cleaning import remove_b_0_measurements\n",
    "from preprocessing.data_transformations import convert_coords_from_cartesian_to_spherical\n",
    "from sphericalharmonics.spherical_fourier_transform import get_spherical_fourier_transform\n",
    "from sphericalharmonics.spherical_fourier_transform import get_design_matrix\n",
    "from sphericalharmonics.spherical_fourier_transform import get_inverse_spherical_fourier_transform"
   ]
  },
  {
   "cell_type": "markdown",
   "id": "badb171f",
   "metadata": {},
   "source": [
    "## Visualisation of spherical harmonics up to degree 4"
   ]
  },
  {
   "cell_type": "code",
   "execution_count": null,
   "id": "1de84b5a",
   "metadata": {},
   "outputs": [],
   "source": [
    "plotAllHarmonicsUpToDegree(4, resolution=100)"
   ]
  },
  {
   "cell_type": "markdown",
   "id": "91970ff6",
   "metadata": {},
   "source": [
    "## Load dataset"
   ]
  },
  {
   "cell_type": "code",
   "execution_count": null,
   "id": "aa4bb46e",
   "metadata": {},
   "outputs": [],
   "source": [
    "bvals, qhat, dwis = loadhcp.load_hcp()\n",
    "\n",
    "dwis.shape"
   ]
  },
  {
   "cell_type": "markdown",
   "id": "2c9e4bfa",
   "metadata": {},
   "source": [
    "## Pre-processing"
   ]
  },
  {
   "cell_type": "markdown",
   "id": "95a7f9fa",
   "metadata": {},
   "source": [
    "Remove $b=0$ measurements from the dataset."
   ]
  },
  {
   "cell_type": "code",
   "execution_count": null,
   "id": "6525c627",
   "metadata": {},
   "outputs": [],
   "source": [
    "bvals, qhat, dwis = remove_b_0_measurements(bvals, qhat, dwis)"
   ]
  },
  {
   "cell_type": "markdown",
   "id": "851724b3",
   "metadata": {},
   "source": [
    "Add reflections through the origin to the dataset"
   ]
  },
  {
   "cell_type": "code",
   "execution_count": null,
   "id": "040a192e",
   "metadata": {},
   "outputs": [],
   "source": [
    "bvals, qhat, dwis = extend_dataset_with_origin_reflections(bvals, qhat, dwis)"
   ]
  },
  {
   "cell_type": "markdown",
   "id": "fa5f48c8",
   "metadata": {},
   "source": [
    "Transform Cartesian coordinates to spherical"
   ]
  },
  {
   "cell_type": "code",
   "execution_count": null,
   "id": "6243dc2b",
   "metadata": {},
   "outputs": [],
   "source": [
    "thetas, phis = convert_coords_from_cartesian_to_spherical(qhat)"
   ]
  },
  {
   "cell_type": "markdown",
   "id": "6ef1bca6",
   "metadata": {},
   "source": [
    "## Pick a voxel (white matter)"
   ]
  },
  {
   "cell_type": "code",
   "execution_count": null,
   "id": "ad450b1e",
   "metadata": {},
   "outputs": [],
   "source": [
    "voxel = dwis[:,100,75,71]"
   ]
  },
  {
   "cell_type": "markdown",
   "id": "c9337501",
   "metadata": {},
   "source": [
    "## Plot of how the signal reconstruction error depends on the maximum SH order"
   ]
  },
  {
   "cell_type": "markdown",
   "id": "0857a292",
   "metadata": {},
   "source": [
    "Compute the SH expansion coefficients for various values of maximum degree i.e. from $0$ to $15$ and the corresponding inverse transforms."
   ]
  },
  {
   "cell_type": "code",
   "execution_count": null,
   "id": "887f20b3",
   "metadata": {},
   "outputs": [],
   "source": [
    "all_expansion_coefficients = []\n",
    "all_inverse_spherical_fourier_transforms = []\n",
    "\n",
    "all_design_matrices = []\n",
    "\n",
    "# Determines the number of values used for the maximum degree\n",
    "max_degree_upper_limit = 16\n",
    "\n",
    "for max_degree in range(max_degree_upper_limit):\n",
    "    design_matrix = get_design_matrix(max_degree = max_degree, number_of_samples=len(bvals), thetas=thetas, phis=phis)\n",
    "    all_design_matrices.append(design_matrix)\n",
    "    spherical_fourier_transform = get_spherical_fourier_transform(design_matrix)\n",
    "    \n",
    "    expansion_coefficients = spherical_fourier_transform @ voxel\n",
    "    inverse_spherical_fourier_transform = get_inverse_spherical_fourier_transform(design_matrix)\n",
    "    \n",
    "    all_expansion_coefficients.append(expansion_coefficients)\n",
    "    all_inverse_spherical_fourier_transforms.append(inverse_spherical_fourier_transform)"
   ]
  },
  {
   "cell_type": "markdown",
   "id": "cc7ce0f7",
   "metadata": {},
   "source": [
    "Use the inverse transforms to reconstruct the signals."
   ]
  },
  {
   "cell_type": "code",
   "execution_count": null,
   "id": "ae86e2d0",
   "metadata": {},
   "outputs": [],
   "source": [
    "all_reconstructed_signals = []\n",
    "\n",
    "for max_degree in range(max_degree_upper_limit):\n",
    "    reconstructed_signal = all_inverse_spherical_fourier_transforms[max_degree] @ all_expansion_coefficients[max_degree]\n",
    "    all_reconstructed_signals.append(reconstructed_signal)"
   ]
  },
  {
   "cell_type": "markdown",
   "id": "d864ce26",
   "metadata": {},
   "source": [
    "Compute the differences between the original signals and the reconstructed signals"
   ]
  },
  {
   "cell_type": "code",
   "execution_count": null,
   "id": "5fa35e83",
   "metadata": {},
   "outputs": [],
   "source": [
    "all_reconstruction_errors = []\n",
    "\n",
    "for max_degree in range(max_degree_upper_limit):\n",
    "    reconstruction_errors = voxel - all_reconstructed_signals[max_degree]\n",
    "    all_reconstruction_errors.append(reconstruction_errors)"
   ]
  },
  {
   "cell_type": "markdown",
   "id": "ac8759f9",
   "metadata": {},
   "source": [
    "Compute the mean reconstruction error for each value of the maximum degree"
   ]
  },
  {
   "cell_type": "code",
   "execution_count": null,
   "id": "5a9ef274",
   "metadata": {},
   "outputs": [],
   "source": [
    "all_mean_reconstruction_errors = []\n",
    "\n",
    "for max_degree in range(max_degree_upper_limit):\n",
    "    mean_reconstruction_error = np.mean(np.absolute(all_reconstruction_errors[max_degree]))\n",
    "    all_mean_reconstruction_errors.append(mean_reconstruction_error)"
   ]
  },
  {
   "cell_type": "code",
   "execution_count": null,
   "id": "c886e2ee",
   "metadata": {},
   "outputs": [],
   "source": [
    "all_mean_reconstruction_errors"
   ]
  },
  {
   "cell_type": "code",
   "execution_count": null,
   "id": "15e345d9",
   "metadata": {},
   "outputs": [],
   "source": [
    "plt.plot(range(max_degree_upper_limit),all_mean_reconstruction_errors)\n",
    "plt.xticks(range(max_degree_upper_limit))\n",
    "plt.xlabel(\"Maximum SH order\")\n",
    "plt.ylabel(\"Mean reconstruction error\")\n",
    "plt.show()"
   ]
  },
  {
   "cell_type": "markdown",
   "id": "19413106",
   "metadata": {},
   "source": [
    "## Plot the data from a single voxel and the corresponding spherical function."
   ]
  },
  {
   "cell_type": "code",
   "execution_count": null,
   "id": "6c4bee69",
   "metadata": {},
   "outputs": [],
   "source": [
    "%matplotlib qt\n",
    "fig = plt.figure()\n",
    "ax = fig.add_subplot(121, projection=\"3d\")\n",
    "ax.scatter(qhat[0],qhat[1],qhat[2],c=voxel,vmin=1000,vmax=2000,cmap='viridis')\n",
    "ax.set_axis_off()\n",
    "\n",
    "x, y, z, fcolors = get_spherical_function_values_from_spherical_expansion(all_expansion_coefficients[10],10,resolution=50)\n",
    "\n",
    "ax2 = fig.add_subplot(122, projection='3d')\n",
    "ax2.plot_surface(x, y, z,  rstride=1, cstride=1, facecolors=cm.viridis(fcolors), shade=False)\n",
    "ax2.set_axis_off()\n",
    "\n",
    "plt.show()"
   ]
  }
 ],
 "metadata": {
  "kernelspec": {
   "display_name": "Python 3 (ipykernel)",
   "language": "python",
   "name": "python3"
  },
  "language_info": {
   "codemirror_mode": {
    "name": "ipython",
    "version": 3
   },
   "file_extension": ".py",
   "mimetype": "text/x-python",
   "name": "python",
   "nbconvert_exporter": "python",
   "pygments_lexer": "ipython3",
   "version": "3.10.11"
  }
 },
 "nbformat": 4,
 "nbformat_minor": 5
}
