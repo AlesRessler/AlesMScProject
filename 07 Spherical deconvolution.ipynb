{
 "cells": [
  {
   "cell_type": "markdown",
   "id": "040b2511",
   "metadata": {},
   "source": [
    "# Spherical deconvolution"
   ]
  },
  {
   "cell_type": "markdown",
   "id": "7f1f7953",
   "metadata": {},
   "source": [
    "Even though the diffusion tensor model was among the first widely adopted models, it has major limitations, i.e. it is unable to resolve complex fibre configurations such as fibre crossings or (in a tractography context) track fibres through regions of crossing fibres. The diffusion tensor only shows the overall diffusion in a voxel. The issue of crossing fibres was first disregarded since it was believed that only a few problematic regions (like centrum semiovale and pons) were affected. However, further studies have shown that fibre crossings are of common occurrence in the human brain. According to the estimates, 70-90% of white matter contains fibre crossings of at least two fibre populations$^{[1,2,3,4]}$. Therefore spherical deconvolution (SD) was adopted to model multiple fibre orientations in a voxel. \n",
    "\n",
    "The main assumption of SD is that the diffusion properties of white matter fibres are the same across all brain regions (this behaviour is modelled by the \"fibre response function\" see below), and thus the changes in detected signal are only caused by partial volume effects."
   ]
  },
  {
   "cell_type": "markdown",
   "id": "4fe89df3",
   "metadata": {},
   "source": [
    "## Mixture models"
   ]
  },
  {
   "cell_type": "markdown",
   "id": "03ad3da3",
   "metadata": {},
   "source": [
    "Mixture models estimate the orientation of fibres and their volume fractions by modelling the signal that would be captured for a single population of fibres. The actual signal coming from a voxel is thus assumed to be composed of signals that would have been measured for each population (compartment) in isolation. Water exachge between compartments is not assumed to be negligible. The diffusion due to cerebrospinal fluid (CSF) can be modelled by an isotropic compartment."
   ]
  },
  {
   "cell_type": "markdown",
   "id": "65101424",
   "metadata": {},
   "source": [
    "## Fibre orientation density function."
   ]
  },
  {
   "cell_type": "markdown",
   "id": "1da2734b",
   "metadata": {},
   "source": [
    "fODF can be interpreted as a probability density function of fibres going in a particular direction. Some researchers hold the view that diffusion orientation density function (dODF) should be the function of interest since it can be estimated via the ensemble average spin propagator which is a model-free approach and thus is also the most unbiased. However dODF is not equivalent to dODF (even though dODF is strongly infuenced by fODF) and only provides indirect information regarding the actual fibre orientations. Even when single coherent fibre population is present, dODF will still suggest a wide range of orientations centered around the actual orientation. On the other hand methods that estimate fODF directly often yield sharper and more accurate functions $^{[4,5]}$ see figure below.\n",
    "\n",
    "![DODF_VS_FODF](./figures/dodf_vs_fodf.png)\n",
    "\n",
    "Although the estimation of dODF is model-free it cannot be used as an fODF estimator without introducing a model and thus losing the main benefit of unbiasedness. And since this works focus is on mapping of brain connectivity and given that tractography algorithms require accurate estimates of fODFs it is sensible to estimate fODF directly from the MRI data.\n",
    "\n",
    "\"The advantage of representing fODF as a continuous function is that it possible to capture any complex fibre configuration (e.g. fibre curvature or fanning) as opposed to discrete represetations.\"(SD also uses straight fibres)"
   ]
  },
  {
   "cell_type": "markdown",
   "id": "04b06d3b",
   "metadata": {},
   "source": [
    "## Fibre response function"
   ]
  },
  {
   "cell_type": "markdown",
   "id": "98cdb590",
   "metadata": {},
   "source": [
    "Fibre response function (FRF) models the signal coming from a single fibre population. It can be estimated from the diffusion tensor model by fitting the DT model in a region that is known to have high anisotropy (like corpus callosum) and thus the voxel is likely to contain only one dominant fibre orientation.\n",
    "\n",
    "FRF is axially symmetric (only depends on collatitude $\\theta$) i.e. $R(\\theta)=R(\\theta,\\phi)$."
   ]
  },
  {
   "cell_type": "markdown",
   "id": "a9dfc6fe",
   "metadata": {},
   "source": [
    "## Spherical deconvolution"
   ]
  },
  {
   "cell_type": "markdown",
   "id": "04f7733a",
   "metadata": {},
   "source": [
    "As mentioned above the core concept behind spherical deconvolution is that the voxel signal can be expressed as a weighted sum of one or more fibre populations. These populations are assumed to be identical in terms of their signal response i.e. the signal is attenuated along the fibres and preserved across the fibres. Thus the resulting voxel signal depends only the orientation of the fibres and the fraction of volume they occupy in the voxel. Equivalently the signal can also be expressed as a convolution over the sphere of an fODF with an FRF. See figure below:\n",
    "\n",
    "![DODF_VS_FODF](./figures/sd_approach.png)\n",
    "\n",
    "In order to infer fODF the problem is inverted and fODF is estimated from the measured signal given the FRF. The advantage of SD is that the number of fibre populations does not need to be estimated in advance as opposed to other approaches like multiple diffusion tensor model $^{[6]}$.\n",
    "\n",
    "More formally, SD is a mixture model for estimation of the continuous fibre orientation distribution function (fODF) where the fODF is parametrized by SH coefficients. And the signal can be written as (Eq 1):\n",
    "\n",
    "$$S(\\theta, \\phi)=\\sum_{i}^{N}f_{i}\\hat{A}_iR(\\theta)$$\n",
    "\n",
    "where $f_{i}$ is the volume fraction of the *i*-th fibre population, $\\hat{A}_{i}$ is the operator that rotates the axially symmetric FRF $R(\\theta)$ in the direction of the *i*-th fibre population i.e. $(\\theta_{i}, \\phi_{i})$ and $N$ is the number of distinct fibre populations. Equivalently the signal can be written as a convolution over a unit sphere of the FRF with the fODF $F$ (Eq 2):\n",
    "\n",
    "$$S(\\theta, \\phi)=F \\ast  R (\\theta,\\phi)$$\n",
    "\n",
    "The fODF represents a fraction of fibres going in a direction $(\\theta, \\phi)$. Now let a voxel contain $N$ distinct fibre populations with different orientations then fODF can be defined as a weighted sum of $N$ Dirac delta functions pointing in the way of the fibre populations where the weights are the volume fractions of the fibre populations:\n",
    "\n",
    "$$F(\\theta, \\phi) = \\sum_{i}^{N}f_{i}\\delta_{\\theta_{i},\\phi_{i}}(\\theta,\\phi)$$\n",
    "\n",
    "where $\\delta_{\\theta_{i},\\phi_{i}}(\\theta,\\phi)$ is the Dirac delta function in spherical coordinates centered at the direction of the *i*-th fibre population and is therefore defined as:\n",
    "\n",
    "$$\\delta_{\\theta_{i},\\phi_{i}}(\\theta,\\phi)=\\delta(\\mathbf{r}-\\mathbf{r_0})=\\frac{1}{sin\\theta}\\delta(\\theta - \\theta_{0})\\delta(\\phi - \\phi_{0})$$\n",
    "\n",
    "where $\\mathbf{r}$ is the vector of spherical coordinates $(\\theta,\\phi)$ and $\\mathbf{r_{0}}$ is the vector of spherical coordinates $(\\theta_{0},\\phi_{0})$ where the Dirac delta function is centered.\n",
    "\n",
    "If FRF $R(\\theta)$ is known then the fODF can be computed by deconvolving $R(\\theta)$ from the signal $S(\\theta, \\phi)$."
   ]
  },
  {
   "cell_type": "code",
   "execution_count": null,
   "id": "86463d50",
   "metadata": {},
   "outputs": [],
   "source": []
  },
  {
   "cell_type": "code",
   "execution_count": null,
   "id": "183501e8",
   "metadata": {},
   "outputs": [],
   "source": []
  },
  {
   "cell_type": "code",
   "execution_count": null,
   "id": "bb00f0c5",
   "metadata": {},
   "outputs": [],
   "source": []
  },
  {
   "cell_type": "code",
   "execution_count": null,
   "id": "3d188afc",
   "metadata": {},
   "outputs": [],
   "source": []
  },
  {
   "cell_type": "code",
   "execution_count": null,
   "id": "b398c60b",
   "metadata": {},
   "outputs": [],
   "source": []
  },
  {
   "cell_type": "code",
   "execution_count": null,
   "id": "f0823058",
   "metadata": {},
   "outputs": [],
   "source": []
  },
  {
   "cell_type": "markdown",
   "id": "627b7ad9",
   "metadata": {},
   "source": [
    "## References"
   ]
  },
  {
   "cell_type": "markdown",
   "id": "fd1f91e2",
   "metadata": {},
   "source": [
    "1 Behrens TEJ, Berg HJ, Jbabdi S, Rushworth MFS, Woolrich MW. Probabilistic diffusion tractography with multiple fibre orientations: what can we gain? Neuroimage. 2007;34:144‐155\n",
    "\n",
    "2 Jeurissen B, Leemans A, Tournier J‐D, Jones DK, Sijbers J. Investigating the prevalence of complex fiber configurations in white matter tissue with diffusion magnetic resonance imaging. Hum Brain Mapp. 2013;34:2747‐2766\n",
    "\n",
    "3 Dell'Acqua F, Simmons A, Williams SCR, Catani M. Can spherical deconvolution provide more information than fiber orientations? Hindrance modulated orientational anisotropy, a true‐tract specific index to characterize white matter diffusion. Hum Brain Mapp. 2013;34:2464‐2483\n",
    "\n",
    "4 Descoteaux M, Deriche R, Knösche TR, Anwander A. Deterministic and probabilistic tractography based on complex fibre orientation distributions.\n",
    "IEEE Trans Med Imaging. 2009;28:269‐286\n",
    "\n",
    "5 Jones DK, Knösche TR, Turner R. White matter integrity, fiber count, and other fallacies: the do's and don'ts of diffusion MRI. Neuroimage. 2013;73:239‐254.\n",
    "\n",
    "6 Tuch, D.S., Reese, T.G., Wiegell, M.R., Makris, N., Belliveau, J.W., Wedeen, V.J., 2002. High angular resolution diffusion imaging reveals intravoxel white matter fiber heterogeneity. Magn. Reson. Med. 48, 577 – 582."
   ]
  }
 ],
 "metadata": {
  "kernelspec": {
   "display_name": "Python 3 (ipykernel)",
   "language": "python",
   "name": "python3"
  },
  "language_info": {
   "codemirror_mode": {
    "name": "ipython",
    "version": 3
   },
   "file_extension": ".py",
   "mimetype": "text/x-python",
   "name": "python",
   "nbconvert_exporter": "python",
   "pygments_lexer": "ipython3",
   "version": "3.10.11"
  }
 },
 "nbformat": 4,
 "nbformat_minor": 5
}
