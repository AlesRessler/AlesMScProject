{
 "cells": [
  {
   "cell_type": "markdown",
   "id": "be40c30e",
   "metadata": {},
   "source": [
    "## Imports"
   ]
  },
  {
   "cell_type": "code",
   "execution_count": 1,
   "id": "f771a050",
   "metadata": {},
   "outputs": [],
   "source": [
    "from dataloader.load_dt_simulated import load_dt_simulated_dataset, save_dt_simulated_dataset"
   ]
  },
  {
   "cell_type": "markdown",
   "id": "ad50cf08",
   "metadata": {},
   "source": [
    "# Simulated dataset generation"
   ]
  },
  {
   "cell_type": "markdown",
   "id": "efbb9293",
   "metadata": {},
   "source": [
    "The complete synthetic dataset consists of diffusion weighted data (b-values, gradient orientations, diffusion weighted signals) and the SH expansion coefficients of the fODF which is the target. The simulation starts with sampling random fibre orientations and the corresponding volume fractions for predetermined number of fibre populations. Then given these directions and volume fractions fODF SH coefficients are generated as descibed before. Before the corresponding DW signals can be generated, the eigenvectors of the diffusion tensor need to be generated. Since the eigenvalues are provided as simulation parameters the first eigenvector is chosen to be the fibre population orientation. Then other two random vectors are sampled and by the process of Gram-Schmidt orthonormalization are transformed so that together with the first eigenvector they form an orthonormal basis. These vectors are then used as the eigenvectors of the diffusion tensor model and the corresponding diffusion-weighted signals are produced.\n",
    "\n",
    "The following cell simulates dataset of 1000 voxels each with 2 fibre populations and maximum SH degree of 8."
   ]
  },
  {
   "cell_type": "code",
   "execution_count": 2,
   "id": "4f4a4766",
   "metadata": {},
   "outputs": [],
   "source": [
    "dataset = load_dt_simulated_dataset(dataset_size=1000,\n",
    "                                    number_of_fibre_populations=2,\n",
    "                                    max_degree=8,\n",
    "                                    fibre_population_eigenvalues=(0.003, 0.0002, 0.0002),\n",
    "                                    number_of_data_points=90,\n",
    "                                    b_value=1000,\n",
    "                                    b_0_signal=3000,\n",
    "                                    include_b_0=False,\n",
    "                                    signal_to_noise_ratio=30,\n",
    "                                    noise_type='rician',\n",
    "                                    noise_generator_seed=1,\n",
    "                                    gradient_generator_seed=1,\n",
    "                                    fibre_orientation_generator_seed=1)"
   ]
  },
  {
   "cell_type": "markdown",
   "id": "dfc46053",
   "metadata": {},
   "source": [
    "The following three sections show synthetic data for one voxel."
   ]
  },
  {
   "cell_type": "markdown",
   "id": "e1cf09d3",
   "metadata": {},
   "source": [
    "## SH coefficients of fODF"
   ]
  },
  {
   "cell_type": "code",
   "execution_count": 3,
   "id": "69ae0b02",
   "metadata": {},
   "outputs": [
    {
     "data": {
      "text/plain": [
       "array([ 0.28209479,  0.06192353, -0.2712074 , -0.2165312 , -0.01007259,\n",
       "       -0.15952789, -0.43814622, -0.02025965,  0.03873198,  0.36915473,\n",
       "        0.02807401, -0.00309869,  0.00380469,  0.27289658, -0.14681116,\n",
       "        0.29809931,  0.14021601, -0.06531286,  0.05637124, -0.11197503,\n",
       "       -0.30197654,  0.16974487,  0.03811946,  0.1214478 , -0.22737339,\n",
       "        0.0199729 , -0.53834829,  0.05822074,  0.19546029, -0.21094007,\n",
       "        0.13877934, -0.07425833,  0.34068434, -0.09310615,  0.12015208,\n",
       "        0.10564028, -0.29106338, -0.07875803, -0.17599889,  0.05917967,\n",
       "        0.06587996,  0.37341549,  0.12791213,  0.05426927, -0.25862614])"
      ]
     },
     "execution_count": 3,
     "metadata": {},
     "output_type": "execute_result"
    }
   ],
   "source": [
    "dataset[0][0]"
   ]
  },
  {
   "cell_type": "markdown",
   "id": "3ba2533d",
   "metadata": {},
   "source": [
    "## b-vals, gradient orientations, signals"
   ]
  },
  {
   "cell_type": "code",
   "execution_count": 4,
   "id": "b7cce06c",
   "metadata": {},
   "outputs": [
    {
     "data": {
      "text/plain": [
       "(array([1000, 1000, 1000, 1000, 1000, 1000, 1000, 1000, 1000, 1000, 1000,\n",
       "        1000, 1000, 1000, 1000, 1000, 1000, 1000, 1000, 1000, 1000, 1000,\n",
       "        1000, 1000, 1000, 1000, 1000, 1000, 1000, 1000, 1000, 1000, 1000,\n",
       "        1000, 1000, 1000, 1000, 1000, 1000, 1000, 1000, 1000, 1000, 1000,\n",
       "        1000, 1000, 1000, 1000, 1000, 1000, 1000, 1000, 1000, 1000, 1000,\n",
       "        1000, 1000, 1000, 1000, 1000, 1000, 1000, 1000, 1000, 1000, 1000,\n",
       "        1000, 1000, 1000, 1000, 1000, 1000, 1000, 1000, 1000, 1000, 1000,\n",
       "        1000, 1000, 1000, 1000, 1000, 1000, 1000, 1000, 1000, 1000, 1000,\n",
       "        1000, 1000]),\n",
       " array([[ 0.36353657, -0.79057113, -0.61636162,  0.47329009, -0.82269029,\n",
       "          0.89697745, -0.94988454, -0.16577181, -0.81933594, -0.8108305 ,\n",
       "          0.87454161,  0.91075499, -0.29634718,  0.07737383, -0.0756303 ,\n",
       "          0.18488546,  0.53113688, -0.67804166,  0.52939376, -0.0155802 ,\n",
       "          0.0529998 , -0.9090384 ,  0.12865447,  0.19786134, -0.71456792,\n",
       "          0.50739189, -0.12208415,  0.09533155,  0.68738859, -0.00162231,\n",
       "          0.95459507, -0.10355629, -0.09679543,  0.29431301, -0.08995868,\n",
       "          0.21384095,  0.92917904,  0.16296389,  0.04741773,  0.35671917,\n",
       "          0.46524387,  0.21983525, -0.7729868 , -0.62274516, -0.77620082,\n",
       "         -0.64423968,  0.00415589,  0.99865212,  0.73000799,  0.33564012,\n",
       "          0.56723109, -0.47383666, -0.48080075, -0.00168455, -0.64916545,\n",
       "          0.31729461, -0.97119474,  0.52444143, -0.85596317, -0.62544001,\n",
       "          0.46215175,  0.89393416, -0.44769901,  0.12773116,  0.33440115,\n",
       "         -0.82159404,  0.2508769 ,  0.87307446, -0.46959913,  0.87889206,\n",
       "          0.58771057, -0.4315727 , -0.74458993,  0.06996893, -0.42994952,\n",
       "         -0.35947346, -0.80976594,  0.19192823,  0.28102841,  0.50215702,\n",
       "          0.33415835, -0.64354622, -0.90734709,  0.68572205,  0.23665041,\n",
       "         -0.47392281,  0.44627482,  0.29070143,  0.02901996, -0.04274218],\n",
       "        [ 0.86429949,  0.54924163,  0.66705789,  0.04573437, -0.18198613,\n",
       "          0.05949747, -0.31244442,  0.77836373, -0.57087558,  0.41030837,\n",
       "         -0.45919853,  0.28832787, -0.95018751, -0.87112526, -0.99178506,\n",
       "          0.06890625,  0.79719272,  0.60629724, -0.64538556, -0.96971108,\n",
       "          0.2672325 ,  0.1638382 ,  0.41491829,  0.95252207,  0.66294973,\n",
       "         -0.1955162 , -0.49475658, -0.80291843,  0.5287039 ,  0.68922765,\n",
       "          0.27942037,  0.42236673,  0.02303741, -0.57593942,  0.47929885,\n",
       "         -0.48903257, -0.05897759, -0.21623294,  0.0192163 , -0.78540276,\n",
       "         -0.46547239,  0.90798678,  0.36400956, -0.42841413,  0.53217773,\n",
       "         -0.24393491, -0.71691009, -0.03645431, -0.60060039,  0.22295747,\n",
       "         -0.4018912 , -0.20550786,  0.06547193,  0.96709028,  0.23879845,\n",
       "          0.94303952, -0.20652978, -0.14482443,  0.4250123 ,  0.34000097,\n",
       "          0.15106654,  0.27402918,  0.04994693, -0.34772935, -0.94231937,\n",
       "          0.5636416 , -0.48725845, -0.46019339, -0.016439  , -0.45620664,\n",
       "         -0.7589057 , -0.1021894 , -0.35172279, -0.36175809, -0.18178579,\n",
       "         -0.86332154, -0.52862983, -0.19075608,  0.17346588, -0.45703245,\n",
       "         -0.62297025,  0.7262994 ,  0.36469409, -0.71685673, -0.71893911,\n",
       "         -0.87713234, -0.22971429, -0.82565668, -0.99936747,  0.70018066],\n",
       "        [ 0.34760259,  0.27079683,  0.4184879 ,  0.87971863, -0.5385738 ,\n",
       "         -0.43805422,  0.00989135,  0.6055325 , -0.05281759,  0.41737388,\n",
       "         -0.15592844,  0.29562202,  0.09655076, -0.48492688, -0.10316223,\n",
       "         -0.98034142,  0.28701461, -0.41552757,  0.55065391, -0.24375741,\n",
       "         -0.96217348, -0.38315302, -0.90071685, -0.23141435,  0.22336148,\n",
       "         -0.83924185,  0.8604135 , -0.58841642, -0.49796497,  0.72454304,\n",
       "         -0.10330781, -0.90049011, -0.99503765,  0.76267532,  0.87302924,\n",
       "         -0.8456472 , -0.36489444,  0.96264536, -0.99869029,  0.5058596 ,\n",
       "         -0.75291672, -0.35669662, -0.51960413,  0.65471352, -0.33808158,\n",
       "         -0.72487999, -0.69715325, -0.03694632, -0.32614031, -0.91522439,\n",
       "         -0.71884098,  0.85629746, -0.8743821 , -0.2544279 ,  0.72219078,\n",
       "          0.10000294, -0.11885382,  0.83903937, -0.29443435,  0.70229918,\n",
       "         -0.87383904, -0.35466848, -0.89278827,  0.92885362,  0.01449392,\n",
       "          0.08538952,  0.83644485,  0.16113047, -0.88272669, -0.13937088,\n",
       "         -0.28046108, -0.89627135, -0.56734198,  0.92964264, -0.88436267,\n",
       "          0.35419593,  0.25461663, -0.96269189, -0.94389227, -0.73413872,\n",
       "          0.70728089, -0.24153146, -0.20909203, -0.12610193,  0.65354658,\n",
       "          0.07769188, -0.86491047, -0.48351187,  0.02055499, -0.71268517]]),\n",
       " array([ 775.02980266, 1341.98953139,  866.31859828, 1577.94456725,\n",
       "        1039.59364835, 1541.65613634,  891.95041899,  437.75574737,\n",
       "         891.64909778, 1489.86732314, 1588.61114761,  877.77445945,\n",
       "         868.50201334,  412.05384353,  554.83739427, 1988.74166411,\n",
       "         932.0998733 , 1703.30810654, 1764.3561489 ,  466.92708547,\n",
       "        2369.02287319, 1415.23768489, 2386.04776867,  903.50373718,\n",
       "        1104.85158316, 1486.70569682, 2318.96847824,  434.76892654,\n",
       "        1280.17289451,  549.88994447,  964.04597505, 2443.70896609,\n",
       "        1889.78947749, 2149.91055381,  772.37865064,  757.30645403,\n",
       "        1603.21186263, 2273.70109033, 1883.66594104, 1423.91125905,\n",
       "         935.8336859 , 1077.02031839, 1756.64260745, 1598.50191131,\n",
       "        1726.7068552 , 1186.00165779,  525.97009728, 1341.18357126,\n",
       "        1157.45763765, 2162.10600992, 1154.56075913, 2025.99190514,\n",
       "        1750.61073415,  800.96928548, 1521.65120287,  781.90800405,\n",
       "         928.59547473, 1819.50401996, 1723.992242  , 1330.44992322,\n",
       "        2008.4813099 , 1196.97305018, 1760.51880203, 2431.10038486,\n",
       "         583.49566651, 1466.74708579, 2323.91346696, 1696.13189107,\n",
       "        1628.51883516, 1600.40078707,  777.45029957, 1517.25239943,\n",
       "        1021.31009252, 2450.36443197, 1392.71094227, 1152.80382735,\n",
       "         988.10850788, 1360.216978  , 2146.22276792,  986.71546265,\n",
       "        2006.30946289, 1347.24691564, 1683.05539363, 1057.38942221,\n",
       "        1768.7868638 ,  991.76045705, 1375.73698587,  430.41820118,\n",
       "         561.4341062 , 1894.48498465]))"
      ]
     },
     "execution_count": 4,
     "metadata": {},
     "output_type": "execute_result"
    }
   ],
   "source": [
    "dataset[1][0]"
   ]
  },
  {
   "cell_type": "markdown",
   "id": "810eae89",
   "metadata": {},
   "source": [
    "## Fibre orientations"
   ]
  },
  {
   "cell_type": "code",
   "execution_count": 5,
   "id": "56c07875",
   "metadata": {},
   "outputs": [
    {
     "data": {
      "text/plain": [
       "array([[ 0.36353657,  0.86429949,  0.34760259],\n",
       "       [-0.79057113,  0.54924163,  0.27079683]])"
      ]
     },
     "execution_count": 5,
     "metadata": {},
     "output_type": "execute_result"
    }
   ],
   "source": [
    "dataset[2][0]"
   ]
  },
  {
   "cell_type": "markdown",
   "id": "925365b3",
   "metadata": {},
   "source": [
    "## Saving the datasets"
   ]
  },
  {
   "cell_type": "code",
   "execution_count": 6,
   "id": "133ad26c",
   "metadata": {},
   "outputs": [],
   "source": [
    "#dataset1 = load_dt_simulated_dataset(dataset_size=100000, number_of_fibre_populations=1, max_degree=8, vary_gradients=False, seed=1)\n",
    "#save_dt_simulated_dataset(dataset1, './data/dt_simulated_1_populations')"
   ]
  },
  {
   "cell_type": "code",
   "execution_count": 7,
   "id": "228fc35d",
   "metadata": {},
   "outputs": [],
   "source": [
    "#dataset2 = load_dt_simulated_dataset(dataset_size=100000, number_of_fibre_populations=2, max_degree=8, vary_gradients=False, seed=1)\n",
    "#save_dt_simulated_dataset(dataset2, './data/dt_simulated_2_populations')"
   ]
  },
  {
   "cell_type": "code",
   "execution_count": 8,
   "id": "7bfaa326",
   "metadata": {},
   "outputs": [],
   "source": [
    "#dataset3 = load_dt_simulated_dataset(dataset_size=100000, number_of_fibre_populations=3, max_degree=8, vary_gradients=False, seed=1)\n",
    "#save_dt_simulated_dataset(dataset1, './data/dt_simulated_3_populations')"
   ]
  }
 ],
 "metadata": {
  "kernelspec": {
   "display_name": "Python 3 (ipykernel)",
   "language": "python",
   "name": "python3"
  },
  "language_info": {
   "codemirror_mode": {
    "name": "ipython",
    "version": 3
   },
   "file_extension": ".py",
   "mimetype": "text/x-python",
   "name": "python",
   "nbconvert_exporter": "python",
   "pygments_lexer": "ipython3",
   "version": "3.10.12"
  }
 },
 "nbformat": 4,
 "nbformat_minor": 5
}
