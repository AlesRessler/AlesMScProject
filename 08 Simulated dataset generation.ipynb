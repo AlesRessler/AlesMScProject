{
 "cells": [
  {
   "cell_type": "markdown",
   "id": "be40c30e",
   "metadata": {},
   "source": [
    "## Imports"
   ]
  },
  {
   "cell_type": "code",
   "execution_count": 1,
   "id": "f771a050",
   "metadata": {},
   "outputs": [],
   "source": [
    "from dataloader.load_dt_simulated import load_dt_simulated_dataset, save_dt_simulated_dataset"
   ]
  },
  {
   "cell_type": "markdown",
   "id": "ad50cf08",
   "metadata": {},
   "source": [
    "# Simulated dataset generation"
   ]
  },
  {
   "cell_type": "markdown",
   "id": "efbb9293",
   "metadata": {},
   "source": [
    "The complete synthetic dataset consists of diffusion weighted data (b-values, gradient orientations, diffusion weighted signals) and the SH expansion coefficients of the fODF which is the target. The simulation starts with sampling random fibre orientations and the corresponding volume fractions for predetermined number of fibre populations. Then given these directions and volume fractions fODF SH coefficients are generated as descibed before. Before the corresponding DW signals can be generated, the eigenvectors of the diffusion tensor need to be generated. Since the eigenvalues are provided as simulation parameters the first eigenvector is chosen to be the fibre population orientation. Then other two random vectors are sampled and by the process of Gram-Schmidt orthonormalization are transformed so that together with the first eigenvector they form an orthonormal basis. These vectors are then used as the eigenvectors of the diffusion tensor model and the corresponding diffusion-weighted signals are produced.\n",
    "\n",
    "The following cell simulates dataset of 1000 voxels each with 2 fibre populations and maximum SH degree of 8."
   ]
  },
  {
   "cell_type": "code",
   "execution_count": 2,
   "id": "4f4a4766",
   "metadata": {},
   "outputs": [],
   "source": [
    "dataset = load_dt_simulated_dataset(dataset_size=1000, number_of_fibre_populations=2, max_degree=8, vary_gradients=False,seed=1)"
   ]
  },
  {
   "cell_type": "markdown",
   "id": "dfc46053",
   "metadata": {},
   "source": [
    "The following three sections show synthetic data for one voxel."
   ]
  },
  {
   "cell_type": "markdown",
   "id": "e1cf09d3",
   "metadata": {},
   "source": [
    "## SH coefficients of fODF"
   ]
  },
  {
   "cell_type": "code",
   "execution_count": 3,
   "id": "69ae0b02",
   "metadata": {},
   "outputs": [
    {
     "data": {
      "text/plain": [
       "array([ 0.28209479, -0.23487825,  0.02369006, -0.28264077, -0.12781006,\n",
       "       -0.05303198,  0.25231634, -0.04595966,  0.2355048 , -0.05665353,\n",
       "        0.21512753,  0.20747266,  0.05332506,  0.19581961, -0.5264566 ,\n",
       "        0.24650176, -0.16607579, -0.12970463,  0.02508347, -0.25557612,\n",
       "        0.10639847, -0.12574753, -0.24675288, -0.05801727, -0.26728264,\n",
       "        0.27111804,  0.19828596,  0.19398731, -0.49612805,  0.17504913,\n",
       "       -0.23548985,  0.23897467,  0.05143837,  0.03179002,  0.25278147,\n",
       "       -0.16965795,  0.03516818,  0.24415041,  0.05749774,  0.2989179 ,\n",
       "       -0.10815761, -0.19397131, -0.18638991, -0.24944553,  0.39882963])"
      ]
     },
     "execution_count": 3,
     "metadata": {},
     "output_type": "execute_result"
    }
   ],
   "source": [
    "dataset[0][0]"
   ]
  },
  {
   "cell_type": "markdown",
   "id": "3ba2533d",
   "metadata": {},
   "source": [
    "## b-vals, gradient orientations, signals"
   ]
  },
  {
   "cell_type": "code",
   "execution_count": 4,
   "id": "b7cce06c",
   "metadata": {},
   "outputs": [
    {
     "data": {
      "text/plain": [
       "(array([1000, 1000, 1000, 1000, 1000, 1000, 1000, 1000, 1000, 1000, 1000,\n",
       "        1000, 1000, 1000, 1000, 1000, 1000, 1000, 1000, 1000, 1000, 1000,\n",
       "        1000, 1000, 1000, 1000, 1000, 1000, 1000, 1000, 1000, 1000, 1000,\n",
       "        1000, 1000, 1000, 1000, 1000, 1000, 1000, 1000, 1000, 1000, 1000,\n",
       "        1000, 1000, 1000, 1000, 1000, 1000, 1000, 1000, 1000, 1000, 1000,\n",
       "        1000, 1000, 1000, 1000, 1000, 1000, 1000, 1000, 1000, 1000, 1000,\n",
       "        1000, 1000, 1000, 1000, 1000, 1000, 1000, 1000, 1000, 1000, 1000,\n",
       "        1000, 1000, 1000, 1000, 1000, 1000, 1000, 1000, 1000, 1000, 1000,\n",
       "        1000, 1000]),\n",
       " array([[ 0.36353657, -0.79057113, -0.61636162,  0.47329009, -0.82269029,\n",
       "          0.89697745, -0.94988454, -0.16577181, -0.81933594, -0.8108305 ,\n",
       "          0.87454161,  0.91075499, -0.29634718,  0.07737383, -0.0756303 ,\n",
       "          0.18488546,  0.53113688, -0.67804166,  0.52939376, -0.0155802 ,\n",
       "          0.0529998 , -0.9090384 ,  0.12865447,  0.19786134, -0.71456792,\n",
       "          0.50739189, -0.12208415,  0.09533155,  0.68738859, -0.00162231,\n",
       "          0.95459507, -0.10355629, -0.09679543,  0.29431301, -0.08995868,\n",
       "          0.21384095,  0.92917904,  0.16296389,  0.04741773,  0.35671917,\n",
       "          0.46524387,  0.21983525, -0.7729868 , -0.62274516, -0.77620082,\n",
       "         -0.64423968,  0.00415589,  0.99865212,  0.73000799,  0.33564012,\n",
       "          0.56723109, -0.47383666, -0.48080075, -0.00168455, -0.64916545,\n",
       "          0.31729461, -0.97119474,  0.52444143, -0.85596317, -0.62544001,\n",
       "          0.46215175,  0.89393416, -0.44769901,  0.12773116,  0.33440115,\n",
       "         -0.82159404,  0.2508769 ,  0.87307446, -0.46959913,  0.87889206,\n",
       "          0.58771057, -0.4315727 , -0.74458993,  0.06996893, -0.42994952,\n",
       "         -0.35947346, -0.80976594,  0.19192823,  0.28102841,  0.50215702,\n",
       "          0.33415835, -0.64354622, -0.90734709,  0.68572205,  0.23665041,\n",
       "         -0.47392281,  0.44627482,  0.29070143,  0.02901996, -0.04274218],\n",
       "        [ 0.86429949,  0.54924163,  0.66705789,  0.04573437, -0.18198613,\n",
       "          0.05949747, -0.31244442,  0.77836373, -0.57087558,  0.41030837,\n",
       "         -0.45919853,  0.28832787, -0.95018751, -0.87112526, -0.99178506,\n",
       "          0.06890625,  0.79719272,  0.60629724, -0.64538556, -0.96971108,\n",
       "          0.2672325 ,  0.1638382 ,  0.41491829,  0.95252207,  0.66294973,\n",
       "         -0.1955162 , -0.49475658, -0.80291843,  0.5287039 ,  0.68922765,\n",
       "          0.27942037,  0.42236673,  0.02303741, -0.57593942,  0.47929885,\n",
       "         -0.48903257, -0.05897759, -0.21623294,  0.0192163 , -0.78540276,\n",
       "         -0.46547239,  0.90798678,  0.36400956, -0.42841413,  0.53217773,\n",
       "         -0.24393491, -0.71691009, -0.03645431, -0.60060039,  0.22295747,\n",
       "         -0.4018912 , -0.20550786,  0.06547193,  0.96709028,  0.23879845,\n",
       "          0.94303952, -0.20652978, -0.14482443,  0.4250123 ,  0.34000097,\n",
       "          0.15106654,  0.27402918,  0.04994693, -0.34772935, -0.94231937,\n",
       "          0.5636416 , -0.48725845, -0.46019339, -0.016439  , -0.45620664,\n",
       "         -0.7589057 , -0.1021894 , -0.35172279, -0.36175809, -0.18178579,\n",
       "         -0.86332154, -0.52862983, -0.19075608,  0.17346588, -0.45703245,\n",
       "         -0.62297025,  0.7262994 ,  0.36469409, -0.71685673, -0.71893911,\n",
       "         -0.87713234, -0.22971429, -0.82565668, -0.99936747,  0.70018066],\n",
       "        [ 0.34760259,  0.27079683,  0.4184879 ,  0.87971863, -0.5385738 ,\n",
       "         -0.43805422,  0.00989135,  0.6055325 , -0.05281759,  0.41737388,\n",
       "         -0.15592844,  0.29562202,  0.09655076, -0.48492688, -0.10316223,\n",
       "         -0.98034142,  0.28701461, -0.41552757,  0.55065391, -0.24375741,\n",
       "         -0.96217348, -0.38315302, -0.90071685, -0.23141435,  0.22336148,\n",
       "         -0.83924185,  0.8604135 , -0.58841642, -0.49796497,  0.72454304,\n",
       "         -0.10330781, -0.90049011, -0.99503765,  0.76267532,  0.87302924,\n",
       "         -0.8456472 , -0.36489444,  0.96264536, -0.99869029,  0.5058596 ,\n",
       "         -0.75291672, -0.35669662, -0.51960413,  0.65471352, -0.33808158,\n",
       "         -0.72487999, -0.69715325, -0.03694632, -0.32614031, -0.91522439,\n",
       "         -0.71884098,  0.85629746, -0.8743821 , -0.2544279 ,  0.72219078,\n",
       "          0.10000294, -0.11885382,  0.83903937, -0.29443435,  0.70229918,\n",
       "         -0.87383904, -0.35466848, -0.89278827,  0.92885362,  0.01449392,\n",
       "          0.08538952,  0.83644485,  0.16113047, -0.88272669, -0.13937088,\n",
       "         -0.28046108, -0.89627135, -0.56734198,  0.92964264, -0.88436267,\n",
       "          0.35419593,  0.25461663, -0.96269189, -0.94389227, -0.73413872,\n",
       "          0.70728089, -0.24153146, -0.20909203, -0.12610193,  0.65354658,\n",
       "          0.07769188, -0.86491047, -0.48351187,  0.02055499, -0.71268517]]),\n",
       " array([1209.04629886,  899.58832894,  879.31757471, 1560.60022077,\n",
       "        1047.54734212, 1194.80364089, 1100.61802213,  793.51372117,\n",
       "        1726.35762083,  978.34066604,  713.929252  , 1170.38478467,\n",
       "         945.36997256,  702.30480892,  577.49538066, 2316.6749116 ,\n",
       "        1506.91436132,  744.96207088,  766.34676301,  726.58138209,\n",
       "        1942.81085309,  703.51998542, 1943.09144873,  927.43048313,\n",
       "        1035.95662852, 1962.31110408, 1741.75947599,  775.31683191,\n",
       "        1973.54353987, 1137.3109143 , 1271.14188617, 1720.5700173 ,\n",
       "        2100.4961093 , 1251.78928756, 1783.09026894, 1592.73404538,\n",
       "        1092.2459394 , 1906.12542849, 2229.02164379,  909.23451417,\n",
       "        1426.72025765,  833.25489662,  474.28569225, 2126.07406009,\n",
       "         588.13274423, 1439.86958249, 1140.90017291,  752.80577318,\n",
       "         906.08063205, 2264.68216948, 1457.32643924, 2339.20600702,\n",
       "        1347.96911195,  591.44890397, 1323.00084771,  862.55139278,\n",
       "        1050.91305936, 1144.85326784,  706.93551737, 1507.2095038 ,\n",
       "        2453.8183314 , 1543.38746685, 1328.4641925 , 1469.51405284,\n",
       "         637.19127216,  632.96816817, 1268.40662896,  596.42806722,\n",
       "        1536.05302111,  481.10635078,  886.43396256, 1621.05273467,\n",
       "        1546.68183608, 1507.91834513, 1612.37480307, 1052.14249612,\n",
       "        1746.31828726, 2252.39770619, 2450.88571088, 1285.68754315,\n",
       "        1060.83955732,  733.67244156,  718.81502344,  848.05013888,\n",
       "        1171.21678625, 1326.73258841, 2046.99781137,  846.54671609,\n",
       "         446.07717454,  963.98253011]))"
      ]
     },
     "execution_count": 4,
     "metadata": {},
     "output_type": "execute_result"
    }
   ],
   "source": [
    "dataset[1][0]"
   ]
  },
  {
   "cell_type": "markdown",
   "id": "810eae89",
   "metadata": {},
   "source": [
    "## Fibre orientations"
   ]
  },
  {
   "cell_type": "code",
   "execution_count": 5,
   "id": "56c07875",
   "metadata": {},
   "outputs": [
    {
     "data": {
      "text/plain": [
       "array([[ 0.61898402, -0.77509971,  0.1268039 ],\n",
       "       [-0.74957682, -0.59759348, -0.28463418]])"
      ]
     },
     "execution_count": 5,
     "metadata": {},
     "output_type": "execute_result"
    }
   ],
   "source": [
    "dataset[2][0]"
   ]
  },
  {
   "cell_type": "markdown",
   "id": "925365b3",
   "metadata": {},
   "source": [
    "## Saving the datasets"
   ]
  },
  {
   "cell_type": "code",
   "execution_count": 6,
   "id": "133ad26c",
   "metadata": {},
   "outputs": [],
   "source": [
    "dataset1 = load_dt_simulated_dataset(dataset_size=100000, number_of_fibre_populations=1, max_degree=8, vary_gradients=False, seed=1)\n",
    "save_dt_simulated_dataset(dataset1, './data/dt_simulated_1_populations')"
   ]
  },
  {
   "cell_type": "code",
   "execution_count": 7,
   "id": "228fc35d",
   "metadata": {},
   "outputs": [],
   "source": [
    "dataset2 = load_dt_simulated_dataset(dataset_size=100000, number_of_fibre_populations=2, max_degree=8, vary_gradients=False, seed=1)\n",
    "save_dt_simulated_dataset(dataset2, './data/dt_simulated_2_populations')"
   ]
  },
  {
   "cell_type": "code",
   "execution_count": 8,
   "id": "7bfaa326",
   "metadata": {},
   "outputs": [],
   "source": [
    "dataset3 = load_dt_simulated_dataset(dataset_size=100000, number_of_fibre_populations=3, max_degree=8, vary_gradients=False, seed=1)\n",
    "save_dt_simulated_dataset(dataset1, './data/dt_simulated_3_populations')"
   ]
  }
 ],
 "metadata": {
  "kernelspec": {
   "display_name": "Python 3 (ipykernel)",
   "language": "python",
   "name": "python3"
  },
  "language_info": {
   "codemirror_mode": {
    "name": "ipython",
    "version": 3
   },
   "file_extension": ".py",
   "mimetype": "text/x-python",
   "name": "python",
   "nbconvert_exporter": "python",
   "pygments_lexer": "ipython3",
   "version": "3.10.12"
  }
 },
 "nbformat": 4,
 "nbformat_minor": 5
}
