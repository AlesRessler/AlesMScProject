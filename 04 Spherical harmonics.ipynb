{
 "cells": [
  {
   "cell_type": "markdown",
   "id": "c954ec5b",
   "metadata": {},
   "source": [
    "### Imports"
   ]
  },
  {
   "cell_type": "code",
   "execution_count": 1,
   "id": "f1009e82",
   "metadata": {},
   "outputs": [],
   "source": [
    "import matplotlib.pyplot as plt\n",
    "from matplotlib import cm, colors\n",
    "from mpl_toolkits.mplot3d import Axes3D\n",
    "import numpy as np\n",
    "from scipy.special import sph_harm\n",
    "from matplotlib import animation\n",
    "from matplotlib.colors import LightSource\n",
    "from IPython import display\n",
    "import matplotlib\n",
    "\n",
    "from dataloader import loadhcp\n",
    "from scipy.special import sph_harm\n",
    "from preprocessing.data_augmentation import extend_dataset_with_origin_reflections\n",
    "from preprocessing.data_cleaning import remove_b_0_measurements\n",
    "from preprocessing.data_transformations import convert_coords_from_cartesian_to_spherical\n",
    "from sphericalharmonics.spherical_fourier_transform import get_spherical_fourier_transform\n",
    "from sphericalharmonics.spherical_fourier_transform import get_design_matrix\n",
    "from sphericalharmonics.spherical_fourier_transform import get_inverse_spherical_fourier_transform"
   ]
  },
  {
   "cell_type": "markdown",
   "id": "77e34bf6",
   "metadata": {},
   "source": [
    "# Spherical harmonics\n",
    "\n",
    "Spherical harmonics are special functions defined on the surface of a sphere. \"Since the spherical harmonics form a complete set of orthogonal functions and thus an orthonormal basis, each function defined on the surface of a sphere can be written as a sum of these spherical harmonics.\" Spherical harmonics are the extension of Fourier series to higher dimensions. As sines and cosines in Fourier series forms an orthonormal basis for functions on the circle (S(1) group), spherical harmonics form an orthonormal basis for any spherical function (S(2) group)i.e. any function defined on the surface of a sphere can be written as a sum of spherical harmonics. Thus spherical harmonics provide a smooth representation of data distributed on a sphere. Similarly to the sines and cosines in Fourier series, the spherical harmonics can also be ordered by angular frequency (grouped in rows):\n",
    "\n",
    "![SPHERICAL_HARMONICS_VISUALIZATION](./figures/spherical_harmonics_visualization.png)\n",
    "\n",
    "\"Further, spherical harmonics are basis functions for irreducible representations of SO(3), the group of rotations in three dimensions.\"\n",
    "\n",
    "\"Spherical harmonics emerge from solving Laplace's equation in a spherical domain.\"\n",
    "\n",
    "Spherical harmonics of degree $l$ and order $m$, where $l\\geq 0$ and $-l\\leq m\\leq l$ is defined as:\n",
    "\n",
    "$$Y^{m}_{l}(\\theta ,\\phi )=\\sqrt{\\frac{(2l+1)}{4\\pi }\\frac{(l-m)!}{(l+m)!}}P^{m}_{l}(cos \\, \\theta)e^{im\\phi }$$\n",
    "\n",
    "Where $P^{m}_{l}$ is the associated Legendre polynomial defined as:\n",
    "\n",
    "$$P^{m}_{l}(x)=(-1)^{m}(1-x^{2})^{\\frac{m}{2}}\\frac{d^{m}}{dx^{m}}P_{l}(x)$$\n",
    "\n",
    "where\n",
    "\n",
    "$$P_{l}(x)=\\sum_{k=0}^{\\infty}\\frac{(-v)_{k}(v+1)_{k}}{(k!)^{2}}\\left ( \\frac{1-x}{2} \\right )^{k}$$\n",
    "\n",
    "and $(\\cdot)_{k}$ is the Pochhammer symbol defined as:\n",
    "\n",
    "$$(x)_{k}=\\frac{\\Gamma(x+k)}{\\Gamma(x)}$$\n",
    "\n",
    "The order $m$ corresponds to the angular frequency of the basis function i.e. how many full oscilations do we encounter when going all the way around some equator (some constant latitude) on the sphere. And the degree $l$ corresponds to different orthogonal modes at given angular frequency $m$. For a given value of $l$, there are $2l + 1$ independent solutions of this form, one for each integer $m$.\n",
    "\n",
    "The colatitude $\\theta$, or polar angle, ranges from $0$ at the North Pole, to $\\frac{\\pi}{2}$ at the Equator, to $\\pi$ at the South Pole, and the longitude $\\phi$, or azimuth, may assume all values with $0 \\leq \\phi < 2\\pi$.\n",
    "\n",
    "In a spherical coordinate system, a colatitude is the complementary angle of a given latitude, i.e. the difference between a right angle and the latitude.[1] Here Southern latitudes are defined to be negative, and as a result the colatitude is a non-negative quantity, ranging from zero at the North pole to 180° at the South pole."
   ]
  },
  {
   "cell_type": "markdown",
   "id": "7a49c835",
   "metadata": {},
   "source": [
    "# Spherical harmonics visualization"
   ]
  },
  {
   "cell_type": "code",
   "execution_count": 2,
   "id": "121b63af",
   "metadata": {},
   "outputs": [],
   "source": [
    "from visualization.spherical_harmonics_visualization import visualizeAllHarmonicsOfDegree\n",
    "\n",
    "visualizeAllHarmonicsOfDegree(1,resolution=20)"
   ]
  },
  {
   "cell_type": "markdown",
   "id": "0fa8a1b0",
   "metadata": {},
   "source": [
    "# Spherical harmonics expansion"
   ]
  },
  {
   "cell_type": "markdown",
   "id": "887a3499",
   "metadata": {},
   "source": [
    "Any well-behaved function $f(\\theta,\\phi)$ on the sphere can be expanded to spherical harmonics basis as follows:\n",
    "\n",
    "$$f(\\theta, \\phi) = \\sum_{l=0}^{\\infty }\\sum_{m=-l}^{l}c^{m}_{l}Y^{m}_{l}(\\theta, \\phi)$$\n",
    "\n",
    "where $c^{m}_{l}$ is the expansion coefficient for some spherical harmonic $Y^{m}_{l}(\\theta, \\phi)$ defined as:\n",
    "\n",
    "$$c^{m}_{l} = \\int_0^{2\\pi} d\\phi  \\int_0^{\\pi} d\\theta sin(\\theta) Y_{l}^{m*} (\\theta,\\phi) f(\\theta,\\phi)$$\n",
    "\n",
    "Smooth functions with negligible high angular frequency content can be approximated with little to no loss by using harmonics only up to degree $l_{max}$:\n",
    "\n",
    "$$f(\\theta, \\phi) = \\sum_{l=0}^{l_{max}}\\sum_{m=-l}^{l}c^{m}_{l}Y^{m}_{l}(\\theta, \\phi)$$"
   ]
  },
  {
   "cell_type": "markdown",
   "id": "e8090de3",
   "metadata": {},
   "source": [
    "Since the dMRI signals are real-valued and antipodlly symmetric (i.e. symmetric about the origin $f(x)=f(-x)$) simplified spherical harmonic basis can be used. The basis is real thus without imaginary components. Furthermore due to the atipodal symmetry all spherical harmonics with odd degree can be set to $0$. This is because the diffusion is symmetric about the origin e.g. diffusion in the direction $[1,1,1]$ is the same as diffusion in the direction $[-1,-1,-1]$. And since spherical harmonics have the following parity property:\n",
    "\n",
    "$$Y^{m}_{l}(\\theta,\\phi)=(-1)^{m}\\overline{Y^{-m}_{l}(\\theta,\\phi)}$$\n",
    "\n",
    "and also\n",
    "\n",
    "$$Y^{m}_{l}(\\pi-\\theta,\\pi+\\phi)=(-1)^{l}Y^{m}_{l}(\\theta,\\phi)$$\n",
    "\n",
    "it is now possible to see that only spherical hermonics with even degrees correspond to antipodal terms (the other spherical harmonics that are not symmetric around the origin are not needed in our case). Thus the resulting simplified basis becomes:\n",
    "\n",
    "$$\\begin{split}Y^{m}_{l}(\\theta,\\phi) = \\begin{cases}\n",
    "0 & \\text{if $l$ is odd}, \\\\\n",
    "\\sqrt{2} \\: \\text{Im} \\left[ Y_l^{-m}(\\theta,\\phi) \\right] & \\text{if $m < 0$},\\\\\n",
    "Y_l^0(\\theta,\\phi) & \\text{if $m = 0$},\\\\\n",
    "\\sqrt{2} \\: \\text{Re} \\left[ Y_l^m(\\theta,\\phi) \\right] & \\text{if $m > 0$},\\\\\n",
    "\\end{cases}\\end{split}$$\n",
    "\n",
    "\n",
    "------------NOTE------------\n",
    "\n",
    "The real spherical harmonics $Y^{m}_{l}$ with $m > 0$ are said to be of cosine type, and those with $m < 0$ of sine type. The main difference between sine-type and cosine-type spherical harmonics is the way they depend on the azimuthal angle. Cosine-type spherical harmonics are even functions with respect to $\\phi$, while sine-type spherical harmonics are odd functions with respect to $\\phi$.\n",
    "\n",
    "----------------------------"
   ]
  },
  {
   "cell_type": "markdown",
   "id": "706f0be8",
   "metadata": {},
   "source": [
    "# Least-squares expansion coefficient approximation"
   ]
  },
  {
   "cell_type": "markdown",
   "id": "a4fe50f8",
   "metadata": {},
   "source": [
    "Even though the theoretical results above are valid, the coefficients of the spherical harmonics expansion need to be computed only from samples of $f(\\theta,\\phi)$ since the function is unknown. One possibility is to use Least-Squares approximation to compute the spherical harmonics expansion. However this method makes assumptions about the sampling grid (namely lat-lon sampling - Driscoll Healy). See the sampling schemes below:\n",
    "\n",
    "![SPHERE_SAMPLING_SCHEMES](./figures/sphere_sampling_schemes.png)\n",
    "\n",
    "However what is really needed is spherical harmonic expansion that closely approximates the sample points with the assumption that the function that passes near the sample points will also closely approximate the original function.\n",
    "\n",
    "Let spherical functions ($L^{2}(S^{2})$) be the Hilbert space of square integrable functions on the 2-dimensional sphere $S^{2}$ and the coordinates are defined as colatitude $\\theta$ and longitude $\\phi$. Square integrable functions need to satisfy this condition:\n",
    "\n",
    "$$\\int_{-\\infty }^{\\infty }\\left | f(x) \\right |^{2}dx < \\infty$$\n",
    "\n",
    "where $f(x)$ is a real- or complex-valued function.\n",
    "\n",
    "The inner product on the sphere is defined as:\n",
    "\n",
    "$$\n",
    "\\left \\langle f,h \\right \\rangle=\\int_{0}^{\\pi}\\int_{0}^{2\\pi}f(\\theta,\\phi)\\overline{h(\\theta,\\phi)}\\, sin\\theta \\, d\\phi d\\theta\n",
    "$$\n",
    "\n",
    "Thus the expansion coefficients can also be defined as:\n",
    "\n",
    "$$\\widehat{f}(l,m)=\\left \\langle f,Y^{m}_{l} \\right \\rangle=c^{m}_{l}$$\n",
    "\n",
    "Since it is not possible to discretize the surface of the sphere in a way that the neigbourhood of each point is the same therefore a common approach to performing a spherical convolution is to express the discretized spherical function and a filter in the spherical harmonics domain and perform the convolution there. This approach is supported by the Sampling Theorem, Convolution Theorem and fast spherical transform. The Sampling Theorem guarantees the reversibility of the discretization of the spherical functions. And the fast spherical transform ensures computational efficiency.\n",
    "\n",
    "## The Convolution Theorem\n",
    "The Convolution Theorem states that expansion coefficient of a convolution of some spherical functions $f$ and $h$ is a product of the expansion coefficients of $f$ and $h$:\n",
    "\n",
    "$$(\\widehat{f*h})(l,m)=2\\pi\\sqrt{\\frac{4\\pi}{2l+1}}\\widehat{f}(l,m)\\widehat{h}(l,0)$$\n",
    "\n",
    "Since this theorem is independent of sampling it is therefore possible to perform convolution in the spherical harmonics domain as long as the projection of the functions onto the sperical harmonics domain is accurate. Due to this it is possible to transform the spherical functions $f$ and $h$ into the spherical harmonics domain, perform convolution there and the perform the inverse transform to get the convolution $f*h$.\n",
    "\n",
    "## The Sampling Theorem\n",
    "The Sampling Theorem states that for a bandlimited ($\\widehat{f}(l,m)=0$ for $l\\geq b$) spherical function $f$ of bandwidth $b$ the expansion coefficients can be calculated as:\n",
    "\n",
    "$$\\widehat{f}(l,m)=\\frac{\\sqrt{2\\pi}}{2b}\\sum_{j=0}^{2b-1}\\sum_{k=0}^{2b-1}a^{(j)}_{b}f(\\theta_{j},\\phi_{k})\\overline{Y^{l}_{m}(\\theta_{j},\\phi_{k})}$$\n",
    "\n",
    "where $l<b$, $\\left | m \\right |\\leq l$, $\\theta_{j}=\\pi\\frac{2j+1}{4B}$, $\\theta_{k}=\\frac{\\pi k}{b}$ and $a^{(b)}_{j}$ are weights that compensate for the oversampling at the poles. It is important to note that according to the theorem $(2b)^{2}$ samples are sufficient to be able to reconstruct $f$. However the assumption of this theorem is that the sphere is sampled as a lat-lon grid.\n",
    "\n",
    "## The Uniform Resolution Theorem\n",
    "The Uniform Resolution Theorem states that each spherical harmonic of some degree $l$ can be rotated and then expressed as a linear combination of only the harmonics of the same degree $l$. Therefore the impossibility of sphere discretization can be circumvented.\n",
    "\n",
    "## Additional properties of real spherical functions\n",
    "Since the MRI data is real-valued additional properties of real-valued spherical harmonics can be derived:\n",
    "\n",
    "\\begin{align}\n",
    "c^{-m}_{l} &= \\int_{0}^{\\pi}\\int_{0}^{2\\pi}f(\\theta,\\phi)\\overline{Y^{-m}_{l}(\\theta,\\phi)}sin\\theta\\, d\\phi\\, d\\theta \\\\\n",
    "& = \\int_{0}^{\\pi}\\int_{0}^{2\\pi}f(\\theta,\\phi)[(-1)^{m}Y^{m}_{l}(\\theta,\\phi)]sin\\theta\\, d\\phi\\, d\\theta \\\\\n",
    "& = (-1)^{m}\\overline{\\int_{0}^{\\pi}\\int_{0}^{2\\pi}f(\\theta,\\phi)\\overline{Y^{m}_{l}(\\theta,\\phi)}sin\\theta\\, d\\phi\\, d\\theta} \\\\\n",
    "& = (-1)^{m}\\overline{c^{m}_{l}}\n",
    "\\end{align}\n",
    "\n",
    "Thus we can merge expansion coefficients $c^{-m}_{l}$ and $c^{m}_{l}$ into a single coefficient $C^{m}_{l}$ with $m>0$ as follows:\n",
    "\n",
    "\\begin{align}\n",
    "C^{m}_{l} &= c^{-m}_{l}Y^{-m}_{l} + c^{m}_{l}Y^{m}_{l} \\\\\n",
    "& = (-1)^{m}\\overline{c^{m}_{l}}(-1)^{m}\\overline{Y^{m}_{l}}+ c^{m}_{l}Y^{m}_{l}\\\\\n",
    "& = \\overline{c^{m}_{l}Y^{m}_{l}} + c^{m}_{l}Y^{m}_{l}\\\\\n",
    "& = 2Re(c^{m}_{l}Y^{m}_{l}) \\\\\n",
    "& = 2[a^{m}_{l}R^{m}_{l}+b^{m}_{l}(-I^{m}_{l})]\n",
    "\\end{align}\n",
    "\n",
    "where $R^{m}_{l}$ is the real part of $Y^{m}_{l}$ and $I^{m}_{l}$ is the imaginary part of $Y^{m}_{l}$. Note that the derivation above holds only for $m$ > 0 since when $m=0$ there is no other spherical harmonic with $-m$ since $-0=0$ therefore the same spherical harmonic would be included twice. Thus $C^{0}_{l}=c^{0}_{l}$ and since $Y^{m}_{l}$ is real therefore $c^{0}_{l}$ must also be real since $f$ is real.\n",
    "\n",
    "------------NOTE------------\n",
    "\n",
    "Hilbert space: https://www.youtube.com/watch?v=_kJUUxjJ_FY\n",
    "\n",
    "----------------------------"
   ]
  },
  {
   "cell_type": "markdown",
   "id": "969740bc",
   "metadata": {},
   "source": [
    "## Dataset\n",
    "\n",
    "At first the dataset described in the \"02 dMRI data\" notebook is loaded."
   ]
  },
  {
   "cell_type": "code",
   "execution_count": 3,
   "id": "26711116",
   "metadata": {},
   "outputs": [
    {
     "data": {
      "text/plain": [
       "(108, 145, 174, 145)"
      ]
     },
     "execution_count": 3,
     "metadata": {},
     "output_type": "execute_result"
    }
   ],
   "source": [
    "bvals, qhat, dwis = loadhcp.load_hcp()\n",
    "\n",
    "dwis.shape"
   ]
  },
  {
   "cell_type": "markdown",
   "id": "e2d35885",
   "metadata": {},
   "source": [
    "Plot the loaded dataset for one voxel."
   ]
  },
  {
   "cell_type": "code",
   "execution_count": 4,
   "id": "97063fa0",
   "metadata": {},
   "outputs": [],
   "source": [
    "%matplotlib qt\n",
    "\n",
    "voxel = dwis[:,100,75,71]\n",
    "\n",
    "fig = plt.figure()\n",
    "ax = fig.add_subplot(111, projection=\"3d\")\n",
    "ax.scatter(qhat[0],qhat[1],qhat[2],c=voxel,vmin=1000,vmax=2000)\n",
    "plt.show()"
   ]
  },
  {
   "cell_type": "markdown",
   "id": "072d1a89",
   "metadata": {},
   "source": [
    "## Pre-processing"
   ]
  },
  {
   "cell_type": "markdown",
   "id": "ec17e4c9",
   "metadata": {},
   "source": [
    "Measurements with $b=0$ need to be removed because they do not lie on the unit sphere."
   ]
  },
  {
   "cell_type": "code",
   "execution_count": 5,
   "id": "4e9de32b",
   "metadata": {},
   "outputs": [],
   "source": [
    "bvals, qhat, dwis = remove_b_0_measurements(bvals, qhat, dwis)"
   ]
  },
  {
   "cell_type": "markdown",
   "id": "6875acb3",
   "metadata": {},
   "source": [
    "Since the dMRI data is antipodal it is possible to reflect the data points through the origin to produce more samples."
   ]
  },
  {
   "cell_type": "code",
   "execution_count": 6,
   "id": "9dda7603",
   "metadata": {},
   "outputs": [],
   "source": [
    "bvals, qhat, dwis = extend_dataset_with_origin_reflections(bvals, qhat, dwis)"
   ]
  },
  {
   "cell_type": "markdown",
   "id": "5832ea10",
   "metadata": {},
   "source": [
    "The following cell plots the augmented dataset for one voxel."
   ]
  },
  {
   "cell_type": "code",
   "execution_count": 7,
   "id": "64294bb5",
   "metadata": {},
   "outputs": [],
   "source": [
    "voxel = dwis[:,100,75,71]\n",
    "\n",
    "fig = plt.figure()\n",
    "ax = fig.add_subplot(111, projection=\"3d\")\n",
    "ax.scatter(qhat[0],qhat[1],qhat[2],c=voxel,vmin=1000,vmax=2000)\n",
    "plt.show()"
   ]
  },
  {
   "cell_type": "markdown",
   "id": "e93e1b57",
   "metadata": {},
   "source": [
    "Transform Cartesian coordinates to spherical"
   ]
  },
  {
   "cell_type": "code",
   "execution_count": 8,
   "id": "ec4b5973",
   "metadata": {},
   "outputs": [],
   "source": [
    "thetas, phis = convert_coords_from_cartesian_to_spherical(qhat)"
   ]
  },
  {
   "cell_type": "markdown",
   "id": "4628b947",
   "metadata": {},
   "source": [
    "## Spherical Fourier transform\n",
    "\n",
    "Computes the $B$ matrix."
   ]
  },
  {
   "cell_type": "code",
   "execution_count": 9,
   "id": "a37ebc8d",
   "metadata": {},
   "outputs": [],
   "source": [
    "design_matrix = get_design_matrix(max_degree = 14,number_of_samples=len(bvals), thetas=thetas, phis=phis)\n",
    "spherical_fourier_transform = get_spherical_fourier_transform(design_matrix)"
   ]
  },
  {
   "cell_type": "markdown",
   "id": "5051836e",
   "metadata": {},
   "source": [
    "## Least-squares expansion coefficient computation"
   ]
  },
  {
   "cell_type": "code",
   "execution_count": 10,
   "id": "e052aaa0",
   "metadata": {},
   "outputs": [
    {
     "data": {
      "text/plain": [
       "array([ 5.82287434e+03,  1.95954714e+02, -3.82470462e+02,  1.06431203e+02,\n",
       "        2.39077501e+02,  8.13529067e+02, -9.38223661e+01,  5.27989304e+01,\n",
       "        3.42160645e+01, -1.48454684e+02, -5.46924338e+01, -5.92998601e+01,\n",
       "       -4.03104470e+01,  3.20675100e+01,  1.32335074e+02, -4.70212064e+01,\n",
       "        3.52080731e+01, -1.16102696e+02,  4.35006832e+01, -3.98042189e+01,\n",
       "        3.21692442e+01, -3.32552973e+01,  9.86793909e+01, -2.54006665e+01,\n",
       "       -9.45103211e+01, -1.16018225e+00,  3.05453764e+01,  1.44061337e+02,\n",
       "        8.29368993e+01, -8.60597789e+01,  8.78662768e+01,  5.57905991e+00,\n",
       "        4.96641972e+01,  5.28666013e+01, -1.36560937e+01,  3.84349509e+00,\n",
       "       -1.06849134e+02, -2.42287493e+02,  1.06473601e+02, -9.64867508e+01,\n",
       "        1.17661362e+01, -1.27204123e+02,  3.58878684e+01,  3.35414134e+01,\n",
       "        1.47878681e+02,  1.63100736e+02, -1.87236112e+01,  2.33320064e+01,\n",
       "        5.02750333e+01, -6.64969432e+01,  2.54784461e+01,  7.63297198e+01,\n",
       "       -2.28423444e+02, -1.69633904e+01,  5.40508329e+00,  4.95799971e+01,\n",
       "       -5.72247762e+00, -1.84753827e+02,  3.17621808e+01,  5.26861549e+01,\n",
       "       -8.93649026e+00, -1.10506954e+02,  1.71607048e+02, -2.95369582e+01,\n",
       "       -9.61671757e+01,  6.99346976e+01,  5.10107672e+01,  2.08081701e+01,\n",
       "        1.05930039e+02,  1.45276986e+02,  8.31797258e+01, -4.89028009e+01,\n",
       "        9.60430999e+00, -6.33439844e+01, -2.68387680e+00,  1.46911372e+02,\n",
       "        1.21786259e+02, -5.92631590e+01, -1.22792547e+02,  2.94908183e+01,\n",
       "       -4.11950006e+01, -1.70397008e+02,  2.40341576e+01,  1.61887316e+02,\n",
       "       -6.35070918e+00, -7.11673827e+01, -3.87734499e+01, -1.28504665e+02,\n",
       "       -7.89425558e+01, -8.69350102e+01,  1.29559382e+01,  1.11547291e+02,\n",
       "       -3.94564212e+01,  5.66288078e+01,  2.20442820e+02, -2.42056687e+01,\n",
       "       -1.12479606e+02,  5.15296667e+01, -9.68929025e+01,  1.32159563e+01,\n",
       "        5.07031723e+01,  2.43467720e+02,  3.21876901e+01,  3.13679963e+01,\n",
       "       -1.42182704e+02,  9.31786716e+01,  2.76687173e+01,  7.37396046e+01,\n",
       "       -2.69777247e+02, -2.02574457e+02, -1.07357983e+00, -1.01066016e+01,\n",
       "       -7.30337374e+01,  1.42521731e+02, -1.67193715e+02, -1.05465504e+02,\n",
       "        6.64221788e+01,  4.01516277e+00, -1.21425617e+01, -5.56462547e+01])"
      ]
     },
     "execution_count": 10,
     "metadata": {},
     "output_type": "execute_result"
    }
   ],
   "source": [
    "expansion_coefficients = spherical_fourier_transform @ voxel\n",
    "expansion_coefficients"
   ]
  },
  {
   "cell_type": "markdown",
   "id": "e26e87a0",
   "metadata": {},
   "source": [
    "## Signal reconstruction"
   ]
  },
  {
   "cell_type": "code",
   "execution_count": 12,
   "id": "e62efd4d",
   "metadata": {},
   "outputs": [],
   "source": [
    "inverse_spherical_fourier_transform = get_inverse_spherical_fourier_transform(design_matrix)\n",
    "\n",
    "original_signal = dwis[:,100,75,71]\n",
    "reconstructed_signal = inverse_spherical_fourier_transform @ expansion_coefficients"
   ]
  },
  {
   "cell_type": "code",
   "execution_count": 17,
   "id": "99bffbfa",
   "metadata": {},
   "outputs": [
    {
     "data": {
      "text/plain": [
       "array([1120.1832 , 1746.1273 , 1994.284  , 2355.8635 , 1141.3386 ,\n",
       "       1319.1646 , 1692.9148 , 1304.5999 , 1776.4893 , 1850.2423 ,\n",
       "       1736.5635 , 1959.4779 , 1536.9711 , 1241.8085 , 2115.1946 ,\n",
       "       2048.0872 , 1764.5569 , 2015.017  , 1919.6414 , 1652.7312 ,\n",
       "       1700.7474 , 1147.5239 , 1885.3145 , 1635.8328 , 1400.7739 ,\n",
       "       1456.9565 , 1014.1146 , 2092.2744 , 1850.6425 , 1398.3287 ,\n",
       "       1888.2919 , 1602.9725 , 1717.0581 , 1500.4734 , 1317.569  ,\n",
       "       1835.3228 , 2104.8643 , 1655.3278 , 1379.6798 , 1750.504  ,\n",
       "       1587.1937 , 1978.541  ,  959.55365, 2120.06   , 1500.2799 ,\n",
       "       1867.4877 , 1789.7793 , 1671.7902 , 1530.8884 , 1508.7181 ,\n",
       "       1415.8063 , 1082.3871 , 2552.8623 , 1864.1335 , 2047.2896 ,\n",
       "       1640.3965 , 1325.0327 , 1245.0833 , 1847.978  , 1652.5964 ,\n",
       "       1982.6775 , 1707.3073 , 1818.8319 , 1844.2772 , 1291.6127 ,\n",
       "       1794.27   , 1594.973  , 2286.7366 , 1277.6061 , 1484.5334 ,\n",
       "       2290.4087 , 1051.1519 , 1905.5702 , 1946.6218 , 1586.5054 ,\n",
       "       1618.6428 , 1215.5446 , 1921.584  , 1561.0911 , 1624.4558 ,\n",
       "       1653.2305 , 2396.6038 , 1565.1389 , 1393.5397 , 1958.1685 ,\n",
       "       1859.2596 , 2204.8533 , 1893.2626 , 1582.3925 , 1944.5084 ,\n",
       "       1120.1832 , 1746.1273 , 1994.284  , 2355.8635 , 1141.3386 ,\n",
       "       1319.1646 , 1692.9148 , 1304.5999 , 1776.4893 , 1850.2423 ,\n",
       "       1736.5635 , 1959.4779 , 1536.9711 , 1241.8085 , 2115.1946 ,\n",
       "       2048.0872 , 1764.5569 , 2015.017  , 1919.6414 , 1652.7312 ,\n",
       "       1700.7474 , 1147.5239 , 1885.3145 , 1635.8328 , 1400.7739 ,\n",
       "       1456.9565 , 1014.1146 , 2092.2744 , 1850.6425 , 1398.3287 ,\n",
       "       1888.2919 , 1602.9725 , 1717.0581 , 1500.4734 , 1317.569  ,\n",
       "       1835.3228 , 2104.8643 , 1655.3278 , 1379.6798 , 1750.504  ,\n",
       "       1587.1937 , 1978.541  ,  959.55365, 2120.06   , 1500.2799 ,\n",
       "       1867.4877 , 1789.7793 , 1671.7902 , 1530.8884 , 1508.7181 ,\n",
       "       1415.8063 , 1082.3871 , 2552.8623 , 1864.1335 , 2047.2896 ,\n",
       "       1640.3965 , 1325.0327 , 1245.0833 , 1847.978  , 1652.5964 ,\n",
       "       1982.6775 , 1707.3073 , 1818.8319 , 1844.2772 , 1291.6127 ,\n",
       "       1794.27   , 1594.973  , 2286.7366 , 1277.6061 , 1484.5334 ,\n",
       "       2290.4087 , 1051.1519 , 1905.5702 , 1946.6218 , 1586.5054 ,\n",
       "       1618.6428 , 1215.5446 , 1921.584  , 1561.0911 , 1624.4558 ,\n",
       "       1653.2305 , 2396.6038 , 1565.1389 , 1393.5397 , 1958.1685 ,\n",
       "       1859.2596 , 2204.8533 , 1893.2626 , 1582.3925 , 1944.5084 ],\n",
       "      dtype=float32)"
      ]
     },
     "execution_count": 17,
     "metadata": {},
     "output_type": "execute_result"
    }
   ],
   "source": [
    "original_signal"
   ]
  },
  {
   "cell_type": "code",
   "execution_count": 14,
   "id": "d5cceb4f",
   "metadata": {},
   "outputs": [
    {
     "data": {
      "text/plain": [
       "array([1120.18322754, 1746.12731934, 1994.28405762, 2355.86352539,\n",
       "       1141.33862305, 1319.16455078, 1692.91479492, 1304.59985352,\n",
       "       1776.48925781, 1850.24230957, 1736.56347656, 1959.47790527,\n",
       "       1536.97106934, 1241.80847168, 2115.19458008, 2048.0871582 ,\n",
       "       1764.55688477, 2015.01696777, 1919.64135742, 1652.73120117,\n",
       "       1700.74743652, 1147.52392578, 1885.31445312, 1635.83276367,\n",
       "       1400.77392578, 1456.95654297, 1014.11462402, 2092.27441406,\n",
       "       1850.64245605, 1398.32873535, 1888.29187012, 1602.97253418,\n",
       "       1717.05810547, 1500.47338867, 1317.56896973, 1835.32275391,\n",
       "       2104.86425781, 1655.32775879, 1379.67980957, 1750.50402832,\n",
       "       1587.19372559, 1978.54101562,  959.5536499 , 2120.06005859,\n",
       "       1500.27990723, 1867.4876709 , 1789.77929687, 1671.79016113,\n",
       "       1530.88842773, 1508.71813965, 1415.80627441, 1082.38708496,\n",
       "       2552.86230469, 1864.13354492, 2047.28955078, 1640.39648437,\n",
       "       1325.03271484, 1245.08325195, 1847.97802734, 1652.59643555,\n",
       "       1982.67749023, 1707.30725098, 1818.83190918, 1844.27722168,\n",
       "       1291.6126709 , 1794.27001953, 1594.97302246, 2286.73657227,\n",
       "       1277.6060791 , 1484.53344727, 2290.40869141, 1051.15185547,\n",
       "       1905.57019043, 1946.62182617, 1586.50537109, 1618.64282227,\n",
       "       1215.54455566, 1921.58398438, 1561.09106445, 1624.45581055,\n",
       "       1653.23046875, 2396.60375977, 1565.13891602, 1393.53967285,\n",
       "       1958.16845703, 1859.25964355, 2204.85327148, 1893.26257324,\n",
       "       1582.39245605, 1944.50842285, 1120.18322754, 1746.12731934,\n",
       "       1994.28405762, 2355.86352539, 1141.33862305, 1319.16455078,\n",
       "       1692.91479492, 1304.59985352, 1776.48925781, 1850.24230957,\n",
       "       1736.56347656, 1959.47790527, 1536.97106934, 1241.80847168,\n",
       "       2115.19458008, 2048.0871582 , 1764.55688477, 2015.01696777,\n",
       "       1919.64135742, 1652.73120117, 1700.74743652, 1147.52392578,\n",
       "       1885.31445312, 1635.83276367, 1400.77392578, 1456.95654297,\n",
       "       1014.11462402, 2092.27441406, 1850.64245605, 1398.32873535,\n",
       "       1888.29187012, 1602.97253418, 1717.05810547, 1500.47338867,\n",
       "       1317.56896973, 1835.32275391, 2104.86425781, 1655.32775879,\n",
       "       1379.67980957, 1750.50402832, 1587.19372559, 1978.54101563,\n",
       "        959.5536499 , 2120.06005859, 1500.27990723, 1867.4876709 ,\n",
       "       1789.77929687, 1671.79016113, 1530.88842773, 1508.71813965,\n",
       "       1415.80627441, 1082.38708496, 2552.86230469, 1864.13354492,\n",
       "       2047.28955078, 1640.39648438, 1325.03271484, 1245.08325195,\n",
       "       1847.97802734, 1652.59643555, 1982.67749023, 1707.30725098,\n",
       "       1818.83190918, 1844.27722168, 1291.6126709 , 1794.27001953,\n",
       "       1594.97302246, 2286.73657227, 1277.6060791 , 1484.53344727,\n",
       "       2290.40869141, 1051.15185547, 1905.57019043, 1946.62182617,\n",
       "       1586.50537109, 1618.64282227, 1215.54455566, 1921.58398438,\n",
       "       1561.09106445, 1624.45581055, 1653.23046875, 2396.60375977,\n",
       "       1565.13891602, 1393.53967285, 1958.16845703, 1859.25964355,\n",
       "       2204.85327148, 1893.26257324, 1582.39245605, 1944.50842285])"
      ]
     },
     "execution_count": 14,
     "metadata": {},
     "output_type": "execute_result"
    }
   ],
   "source": [
    "reconstructed_signal"
   ]
  },
  {
   "cell_type": "code",
   "execution_count": 15,
   "id": "f9b02634",
   "metadata": {},
   "outputs": [
    {
     "data": {
      "text/plain": [
       "array([-1.36424205e-12,  3.63797881e-12, -1.81898940e-12, -2.72848411e-12,\n",
       "       -5.22959454e-12,  3.86535248e-12,  2.95585778e-12, -1.36424205e-12,\n",
       "        1.36424205e-12,  5.00222086e-12,  4.77484718e-12, -1.81898940e-12,\n",
       "        9.09494702e-13, -4.32009983e-12, -1.81898940e-12,  3.63797881e-12,\n",
       "       -9.09494702e-13, -4.09272616e-12, -4.54747351e-12, -2.04636308e-12,\n",
       "       -6.36646291e-12,  1.81898940e-12,  1.81898940e-12, -6.82121026e-13,\n",
       "       -3.18323146e-12,  2.04636308e-12,  1.47792889e-12, -3.18323146e-12,\n",
       "       -3.86535248e-12,  1.36424205e-12, -6.82121026e-12, -5.22959454e-12,\n",
       "        6.36646291e-12, -3.18323146e-12,  2.27373675e-12, -9.09494702e-13,\n",
       "        3.18323146e-12, -1.13686838e-12, -1.36424205e-12, -5.00222086e-12,\n",
       "        1.13686838e-12,  2.27373675e-13,  4.54747351e-13,  9.09494702e-13,\n",
       "       -3.18323146e-12,  4.54747351e-13,  4.54747351e-12, -5.91171556e-12,\n",
       "       -8.18545232e-12, -1.81898940e-12, -1.59161573e-12,  0.00000000e+00,\n",
       "       -2.72848411e-12, -1.04591891e-11, -5.22959454e-12,  9.09494702e-13,\n",
       "       -2.27373675e-13,  2.95585778e-12, -6.82121026e-13,  1.81898940e-12,\n",
       "        2.27373675e-13,  4.54747351e-12,  2.27373675e-12,  9.09494702e-13,\n",
       "       -3.41060513e-12,  6.59383659e-12,  1.81898940e-12,  0.00000000e+00,\n",
       "       -4.54747351e-13, -5.68434189e-12,  5.91171556e-12,  2.95585778e-12,\n",
       "       -5.45696821e-12, -5.00222086e-12, -6.82121026e-13,  4.54747351e-13,\n",
       "        0.00000000e+00, -4.77484718e-12, -2.50111043e-12,  4.09272616e-12,\n",
       "        1.81898940e-12, -1.36424205e-12,  9.09494702e-13,  1.81898940e-12,\n",
       "       -2.04636308e-12, -2.50111043e-12,  3.63797881e-12, -3.63797881e-12,\n",
       "        3.63797881e-12,  2.50111043e-12, -9.09494702e-13,  3.18323146e-12,\n",
       "       -2.27373675e-12, -1.81898940e-12, -5.22959454e-12,  2.04636308e-12,\n",
       "        3.41060513e-12, -1.36424205e-12,  2.50111043e-12,  3.41060513e-12,\n",
       "        4.09272616e-12, -2.50111043e-12,  9.09494702e-13, -4.54747351e-12,\n",
       "       -1.36424205e-12,  2.27373675e-12, -1.81898940e-12, -4.54747351e-12,\n",
       "       -5.45696821e-12, -2.04636308e-12, -5.91171556e-12,  1.59161573e-12,\n",
       "        1.81898940e-12,  0.00000000e+00, -3.63797881e-12,  1.36424205e-12,\n",
       "        2.04636308e-12, -4.09272616e-12, -3.86535248e-12,  2.27373675e-13,\n",
       "       -7.73070497e-12, -5.00222086e-12,  2.72848411e-12, -2.72848411e-12,\n",
       "        1.13686838e-12, -9.09494702e-13,  3.63797881e-12, -4.54747351e-13,\n",
       "       -1.59161573e-12, -4.54747351e-12,  1.59161573e-12, -1.59161573e-12,\n",
       "       -2.27373675e-13, -2.72848411e-12, -3.41060513e-12,  4.54747351e-13,\n",
       "        4.32009983e-12, -5.91171556e-12, -7.95807864e-12, -1.13686838e-12,\n",
       "        6.82121026e-13,  9.09494702e-13, -2.27373675e-12, -1.11413101e-11,\n",
       "       -6.13908924e-12, -4.54747351e-13,  2.27373675e-13,  2.95585778e-12,\n",
       "       -1.81898940e-12,  2.50111043e-12,  9.09494702e-13,  4.09272616e-12,\n",
       "        2.27373675e-12,  6.82121026e-13, -2.72848411e-12,  7.73070497e-12,\n",
       "        2.50111043e-12,  4.54747351e-13,  4.54747351e-13, -5.00222086e-12,\n",
       "        4.54747351e-12,  2.95585778e-12, -5.68434189e-12, -2.04636308e-12,\n",
       "       -6.82121026e-13,  6.82121026e-13, -2.04636308e-12, -5.45696821e-12,\n",
       "       -1.59161573e-12,  4.54747351e-12,  1.36424205e-12, -9.09494702e-13,\n",
       "        1.36424205e-12,  1.81898940e-12, -2.72848411e-12, -1.81898940e-12,\n",
       "        3.63797881e-12, -4.09272616e-12,  2.27373675e-12,  2.27373675e-12])"
      ]
     },
     "execution_count": 15,
     "metadata": {},
     "output_type": "execute_result"
    }
   ],
   "source": [
    "original_signal-reconstructed_signal"
   ]
  }
 ],
 "metadata": {
  "kernelspec": {
   "display_name": "Python 3 (ipykernel)",
   "language": "python",
   "name": "python3"
  },
  "language_info": {
   "codemirror_mode": {
    "name": "ipython",
    "version": 3
   },
   "file_extension": ".py",
   "mimetype": "text/x-python",
   "name": "python",
   "nbconvert_exporter": "python",
   "pygments_lexer": "ipython3",
   "version": "3.10.11"
  }
 },
 "nbformat": 4,
 "nbformat_minor": 5
}
