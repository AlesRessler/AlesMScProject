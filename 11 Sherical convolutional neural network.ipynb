{
 "cells": [
  {
   "cell_type": "markdown",
   "id": "1cdeafbd",
   "metadata": {},
   "source": [
    "## Imports"
   ]
  },
  {
   "cell_type": "code",
   "execution_count": 1,
   "id": "533952a1",
   "metadata": {},
   "outputs": [],
   "source": [
    "import torch\n",
    "import torch.nn as nn\n",
    "import torch.optim as optim\n",
    "import numpy as np\n",
    "import matplotlib.pyplot as plt\n",
    "\n",
    "from models.neuralnetwork.spherical_cnn import SCNNModel\n",
    "from preprocessing.data_augmentation import extend_dataset_with_origin_reflections\n",
    "from preprocessing.data_transformations import convert_coords_from_cartesian_to_spherical\n",
    "from sphericalharmonics.spherical_fourier_transform import get_spherical_fourier_transform\n",
    "from sphericalharmonics.spherical_fourier_transform import get_design_matrix"
   ]
  },
  {
   "cell_type": "markdown",
   "id": "a55f1fca",
   "metadata": {},
   "source": [
    "# Spherical convolutional neural network for fODF estimation"
   ]
  },
  {
   "cell_type": "markdown",
   "id": "9356755e",
   "metadata": {},
   "source": [
    "## Load dataset"
   ]
  },
  {
   "cell_type": "code",
   "execution_count": 2,
   "id": "5e5aa7aa",
   "metadata": {},
   "outputs": [],
   "source": [
    "all_dwis = np.load('./data/planar/no_rotation/diffusion_weighted_signals.npy')\n",
    "all_fODFs = np.load('./data/planar/no_rotation/fODF_sh_coefficients.npy')\n",
    "all_qhat = np.load('./data/planar/no_rotation/gradient_orientations.npy')\n",
    "all_bvals = np.load('./data/planar/no_rotation/b_values.npy')\n",
    "all_dwis_sh_coefficients = np.load(\"./data/planar/no_rotation/diffusion_weighted_signals_sh_coefficients.npy\")"
   ]
  },
  {
   "cell_type": "code",
   "execution_count": 3,
   "id": "c2d715ba",
   "metadata": {},
   "outputs": [
    {
     "ename": "NameError",
     "evalue": "name 'n_coeffs' is not defined",
     "output_type": "error",
     "traceback": [
      "\u001b[0;31m---------------------------------------------------------------------------\u001b[0m",
      "\u001b[0;31mNameError\u001b[0m                                 Traceback (most recent call last)",
      "Cell \u001b[0;32mIn[3], line 13\u001b[0m\n\u001b[1;32m     10\u001b[0m num_batches_lr_reduction \u001b[38;5;241m=\u001b[39m \u001b[38;5;241m10000\u001b[39m\n\u001b[1;32m     12\u001b[0m \u001b[38;5;66;03m# Create the neural network\u001b[39;00m\n\u001b[0;32m---> 13\u001b[0m model \u001b[38;5;241m=\u001b[39m \u001b[43mSCNNModel\u001b[49m\u001b[43m(\u001b[49m\u001b[38;5;241;43m1\u001b[39;49m\u001b[43m,\u001b[49m\u001b[38;5;241;43m45\u001b[39;49m\u001b[43m,\u001b[49m\u001b[38;5;241;43m8\u001b[39;49m\u001b[43m)\u001b[49m\n\u001b[1;32m     15\u001b[0m \u001b[38;5;66;03m# Loss function and optimizer\u001b[39;00m\n\u001b[1;32m     16\u001b[0m criterion \u001b[38;5;241m=\u001b[39m nn\u001b[38;5;241m.\u001b[39mMSELoss()\n",
      "File \u001b[0;32m~/Documents/MSc-Project/AlesMScProject/models/neuralnetwork/spherical_cnn.py:54\u001b[0m, in \u001b[0;36mSCNNModel.__init__\u001b[0;34m(self, n_in, n_out, l_max)\u001b[0m\n\u001b[1;32m     52\u001b[0m \u001b[38;5;28;01mdef\u001b[39;00m \u001b[38;5;21m__init__\u001b[39m(\u001b[38;5;28mself\u001b[39m, n_in, n_out, l_max):\n\u001b[1;32m     53\u001b[0m     \u001b[38;5;28msuper\u001b[39m()\u001b[38;5;241m.\u001b[39m\u001b[38;5;21m__init__\u001b[39m()\n\u001b[0;32m---> 54\u001b[0m     \u001b[38;5;28mself\u001b[39m\u001b[38;5;241m.\u001b[39mconv1 \u001b[38;5;241m=\u001b[39m \u001b[43mSphericalConvolution\u001b[49m\u001b[43m(\u001b[49m\u001b[43ml_max\u001b[49m\u001b[43m,\u001b[49m\u001b[43m \u001b[49m\u001b[43mn_in\u001b[49m\u001b[43m,\u001b[49m\u001b[43m \u001b[49m\u001b[38;5;241;43m16\u001b[39;49m\u001b[43m)\u001b[49m\n\u001b[1;32m     55\u001b[0m     \u001b[38;5;28mself\u001b[39m\u001b[38;5;241m.\u001b[39mconv2 \u001b[38;5;241m=\u001b[39m SphericalConvolution(l_max, \u001b[38;5;241m16\u001b[39m, \u001b[38;5;241m32\u001b[39m)\n\u001b[1;32m     56\u001b[0m     \u001b[38;5;28mself\u001b[39m\u001b[38;5;241m.\u001b[39mconv3 \u001b[38;5;241m=\u001b[39m SphericalConvolution(l_max, \u001b[38;5;241m32\u001b[39m, \u001b[38;5;241m64\u001b[39m)\n",
      "File \u001b[0;32m~/Documents/MSc-Project/AlesMScProject/models/neuralnetwork/spherical_cnn.py:12\u001b[0m, in \u001b[0;36mSphericalConvolution.__init__\u001b[0;34m(self, l_max, c_in, c_out)\u001b[0m\n\u001b[1;32m     10\u001b[0m \u001b[38;5;28mself\u001b[39m\u001b[38;5;241m.\u001b[39mc_in \u001b[38;5;241m=\u001b[39m c_in\n\u001b[1;32m     11\u001b[0m \u001b[38;5;28mself\u001b[39m\u001b[38;5;241m.\u001b[39mc_out \u001b[38;5;241m=\u001b[39m c_out\n\u001b[0;32m---> 12\u001b[0m ls \u001b[38;5;241m=\u001b[39m torch\u001b[38;5;241m.\u001b[39mzeros(\u001b[43mn_coeffs\u001b[49m, dtype\u001b[38;5;241m=\u001b[39m\u001b[38;5;28mint\u001b[39m)\n\u001b[1;32m     13\u001b[0m \u001b[38;5;28;01mfor\u001b[39;00m l \u001b[38;5;129;01min\u001b[39;00m \u001b[38;5;28mrange\u001b[39m(\u001b[38;5;241m0\u001b[39m, l_max \u001b[38;5;241m+\u001b[39m \u001b[38;5;241m1\u001b[39m, \u001b[38;5;241m2\u001b[39m):\n\u001b[1;32m     14\u001b[0m     \u001b[38;5;28;01mfor\u001b[39;00m m \u001b[38;5;129;01min\u001b[39;00m \u001b[38;5;28mrange\u001b[39m(\u001b[38;5;241m-\u001b[39ml, l \u001b[38;5;241m+\u001b[39m \u001b[38;5;241m1\u001b[39m):\n",
      "\u001b[0;31mNameError\u001b[0m: name 'n_coeffs' is not defined"
     ]
    }
   ],
   "source": [
    "all_dwis_sh_coefficients = np.expand_dims(all_dwis_sh_coefficients,1)\n",
    "\n",
    "# Hyperparameters\n",
    "input_size = 45\n",
    "output_size = 45\n",
    "learning_rate = 0.001\n",
    "final_learning_rate = 0.0001\n",
    "batch_size = 1000\n",
    "num_batches = 10000\n",
    "num_batches_lr_reduction = 10000\n",
    "\n",
    "# Create the neural network\n",
    "model = SCNNModel(1,45,8)\n",
    "\n",
    "# Loss function and optimizer\n",
    "criterion = nn.MSELoss()\n",
    "optimizer = optim.Adam(model.parameters(), lr=learning_rate)\n",
    "\n",
    "# Data arrays\n",
    "train_data = all_dwis_sh_coefficients[:60000]\n",
    "train_targets = all_fODFs[:60000]\n",
    "val_data = all_dwis_sh_coefficients[60000:80000]\n",
    "val_targets = all_fODFs[60000:80000]\n",
    "test_data = all_dwis_sh_coefficients[80000:]\n",
    "test_targets = all_fODFs[80000:]\n",
    "\n",
    "# Lists to store errors for plotting\n",
    "train_errors = []\n",
    "val_errors = []\n",
    "test_errors = []\n",
    "\n",
    "device = torch.device('mps')\n",
    "model.to(device)\n",
    "\n",
    "# Training loop\n",
    "for batch in range(num_batches):\n",
    "    \n",
    "    if(batch % 1000 == 0):\n",
    "        print(batch)\n",
    "    \n",
    "    # Adjust learning rate\n",
    "    if batch == num_batches - num_batches_lr_reduction:\n",
    "        for param_group in optimizer.param_groups:\n",
    "            param_group['lr'] = final_learning_rate\n",
    "\n",
    "    indices = torch.randperm(len(train_data))[:batch_size]\n",
    "\n",
    "    inputs = torch.FloatTensor(train_data[indices])\n",
    "    targets = torch.FloatTensor(train_targets[indices])\n",
    "    \n",
    "    inputs = inputs.to(device)\n",
    "    targets = targets.to(device)\n",
    "\n",
    "    # Forward pass\n",
    "    outputs = model(inputs)\n",
    "    loss = criterion(outputs, targets)\n",
    "\n",
    "    # Backpropagation and optimization\n",
    "    optimizer.zero_grad()\n",
    "    loss.backward()\n",
    "    optimizer.step()\n",
    "\n",
    "    train_errors.append(loss.item())\n",
    "\n",
    "    # Calculate validation and test errors\n",
    "    if batch % 100 == 0:\n",
    "        with torch.no_grad():\n",
    "            val_inputs = torch.FloatTensor(val_data).to(device)\n",
    "            val_target = torch.FloatTensor(val_targets).to(device)\n",
    "            val_outputs = model(val_inputs)\n",
    "            val_loss = criterion(val_outputs, val_target)\n",
    "            val_errors.append(val_loss.item())\n",
    "\n",
    "            test_inputs = torch.FloatTensor(test_data).to(device)\n",
    "            test_target = torch.FloatTensor(test_targets).to(device)\n",
    "            test_outputs = model(test_inputs)\n",
    "            test_loss = criterion(test_outputs, test_target)\n",
    "            test_errors.append(test_loss.item())\n",
    "\n",
    "# Plot errors\n",
    "plt.plot(train_errors, label='Train Error')\n",
    "plt.plot(val_errors, label='Validation Error')\n",
    "plt.plot(test_errors, label='Test Error')\n",
    "plt.xlabel('Batches')\n",
    "plt.ylabel('Mean Squared Error')\n",
    "plt.legend()\n",
    "plt.show()\n",
    "\n",
    "# Save model weights\n",
    "#torch.save(model.state_dict(), './model_weights.pth')"
   ]
  },
  {
   "cell_type": "markdown",
   "id": "650fe9ca",
   "metadata": {},
   "source": [
    "## Load data with rotations"
   ]
  },
  {
   "cell_type": "code",
   "execution_count": null,
   "id": "7f2deb4b",
   "metadata": {},
   "outputs": [],
   "source": [
    "all_dwis = np.load('./data/planar/rotation/diffusion_weighted_signals.npy')\n",
    "all_fODFs = np.load('./data/planar/rotation/fODF_sh_coefficients.npy')\n",
    "all_qhat = np.load('./data/planar/rotation/gradient_orientations.npy')\n",
    "all_bvals = np.load('./data/planar/rotation/b_values.npy')\n",
    "all_dwis_sh_coefficients = np.load(\"./data/planar/no_rotation/diffusion_weighted_signals_sh_coefficients.npy\")"
   ]
  },
  {
   "cell_type": "markdown",
   "id": "21769c5f",
   "metadata": {},
   "source": [
    "## Model evaluation"
   ]
  },
  {
   "cell_type": "code",
   "execution_count": null,
   "id": "bdee9af7",
   "metadata": {},
   "outputs": [],
   "source": [
    "rotated_inputs = torch.FloatTensor(all_dwis_sh_coefficients).to(device)\n",
    "rotated_target = torch.FloatTensor(all_fODFs).to(device)\n",
    "rotated_outputs = model(rotated_inputs)\n",
    "rotated_loss = criterion(rotated_outputs, rotated_target)\n",
    "rotated_loss.item()"
   ]
  },
  {
   "cell_type": "code",
   "execution_count": null,
   "id": "7202c872",
   "metadata": {},
   "outputs": [],
   "source": [
    "test_errors[-1]"
   ]
  },
  {
   "cell_type": "code",
   "execution_count": null,
   "id": "5e49ccf1",
   "metadata": {},
   "outputs": [],
   "source": [
    "rotated_loss.item() / test_errors[-1]"
   ]
  },
  {
   "cell_type": "code",
   "execution_count": null,
   "id": "efd527e8",
   "metadata": {},
   "outputs": [],
   "source": []
  }
 ],
 "metadata": {
  "kernelspec": {
   "display_name": "Python 3 (ipykernel)",
   "language": "python",
   "name": "python3"
  },
  "language_info": {
   "codemirror_mode": {
    "name": "ipython",
    "version": 3
   },
   "file_extension": ".py",
   "mimetype": "text/x-python",
   "name": "python",
   "nbconvert_exporter": "python",
   "pygments_lexer": "ipython3",
   "version": "3.10.12"
  }
 },
 "nbformat": 4,
 "nbformat_minor": 5
}
