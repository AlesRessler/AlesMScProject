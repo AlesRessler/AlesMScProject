{
 "cells": [
  {
   "cell_type": "code",
   "execution_count": 1,
   "id": "06c98066",
   "metadata": {},
   "outputs": [],
   "source": [
    "import torch\n",
    "\n",
    "from lossfunctions.cross_correlation import CrossCorrelationLoss"
   ]
  },
  {
   "cell_type": "code",
   "execution_count": 2,
   "id": "ccada2d4",
   "metadata": {},
   "outputs": [
    {
     "data": {
      "text/plain": [
       "tensor(1., device='mps:0')"
      ]
     },
     "execution_count": 2,
     "metadata": {},
     "output_type": "execute_result"
    }
   ],
   "source": [
    "loss = CrossCorrelationLoss(8)\n",
    "\n",
    "coeffs = torch.randn(45).to('mps').unsqueeze(0)\n",
    "coeffs2 = torch.randn(45).to('mps').unsqueeze(0)\n",
    "\n",
    "loss(coeffs,coeffs)/torch.sqrt(torch.sum(torch.square(coeffs)) * torch.sum(torch.square(coeffs)))"
   ]
  },
  {
   "cell_type": "code",
   "execution_count": 4,
   "id": "187faf21",
   "metadata": {},
   "outputs": [
    {
     "data": {
      "text/plain": [
       "tensor(0., device='mps:0')"
      ]
     },
     "execution_count": 4,
     "metadata": {},
     "output_type": "execute_result"
    }
   ],
   "source": [
    "torch.sum(torch.square(coeffs)) + torch.sum(torch.square(coeffs)) - 2*loss(coeffs,coeffs)"
   ]
  }
 ],
 "metadata": {
  "kernelspec": {
   "display_name": "Python 3 (ipykernel)",
   "language": "python",
   "name": "python3"
  },
  "language_info": {
   "codemirror_mode": {
    "name": "ipython",
    "version": 3
   },
   "file_extension": ".py",
   "mimetype": "text/x-python",
   "name": "python",
   "nbconvert_exporter": "python",
   "pygments_lexer": "ipython3",
   "version": "3.10.12"
  }
 },
 "nbformat": 4,
 "nbformat_minor": 5
}
