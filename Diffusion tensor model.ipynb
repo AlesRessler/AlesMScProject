{
 "cells": [
  {
   "cell_type": "markdown",
   "id": "2dcd5fee",
   "metadata": {},
   "source": [
    "# Diffusion tensor model\n",
    "\n",
    "The main limitation of the previously mentioned diffusion model is that it does not perform well in anisotropic areas of the brain since it does not take gradient direction into account and thus cannot estimate the direction of diffusion. The diffusion tensor model is a direct extension of the previous model to 3D. The implicit assumption of the DT model is that the dispersion pattern is a trivariate Gaussian. Therefore DT is proportional to the covariance matrix of the distribution. The positive-definitivness of DT ensures that the diffusivity will always be positive (negative diffusivity is meaningless).\n",
    "\n",
    "Diffusion in the DT model is defined as a quadratic function of gradient direction:\n",
    "\n",
    "$$d(\\hat{q})=\\hat{q}^{T}D\\hat{q}$$\n",
    "\n",
    "where $D$ is a symmetric positive-definite $3\\times3$ tensor of parameters that need to estimated:\n",
    "\n",
    "$$D=\\begin{pmatrix}\n",
    "D_{xx}&  D_{xy}& D_{xz}\\\\ \n",
    "D_{xy}&  D_{yy}& D_{yz}\\\\ \n",
    "D_{xz}&  D_{yz}& D_{zz}\n",
    "\\end{pmatrix}$$\n",
    "\n",
    "Hence the DT model can be defined as:\n",
    "\n",
    "$$S(b,\\hat{q})=S(0,\\mathbf{0})e^{-b\\hat{q}^{T}D\\hat{q}}$$\n",
    "\n",
    "Now the model can be linearized:\n",
    "\n",
    "$$logS(b,\\hat{q})=logS(0,\\mathbf{0})-b\\hat{q}^{T}D\\hat{q}$$\n",
    "\n",
    "Finally the terms can be expanded:\n",
    "\n",
    "$$logS(b,\\hat{q})=logS(0,\\mathbf{0}) - bq^{2}_{x}D_{xx} - 2bq_{x}q_{y}D_{xy} - 2bq_{x}q_{z}D_{xz} - bq_{y}^{2}D_{yy} - 2bq_{y}q_{z}D_{yz} - bq_{z}^{2}D_{zz}$$\n",
    "\n",
    "where $q_x$, $q_y$ and $q_z$ are the $x$, $y$ and $z$ components of $\\hat{q}$\n",
    "\n",
    "This expansion can be used to establish a system of linear equations:\n",
    "\n",
    "$$\\begin{pmatrix}\n",
    "logA(b_{1},\\hat{q}_{1})\\\\ \n",
    "\\vdots \\\\ \n",
    "logA(b_{n},\\hat{q}_{n})\n",
    "\\end{pmatrix} = \n",
    "\\begin{pmatrix}\n",
    "1 & -b_{1}q^{2}_{1x} & -2b_{1}q_{1x}q_{1y} & -2b_{1}q_{1x}q_{1z} & -b_{1}q_{1y}^{2} & -2b_{1}q_{1y}q_{1z} &-b_{1}q_{1z}^{2}\\\\ \n",
    "\\vdots &\\vdots &\\vdots &\\vdots &\\vdots &\\vdots &\\vdots \\\\ \n",
    "1 & -b_{n}q^{2}_{nx} & -2b_{n}q_{nx}q_{ny} & -2b_{n}q_{nx}q_{nz} & -b_{n}q_{ny}^{2} & -2b_{n}q_{ny}q_{nz} &-b_{n}q_{nz}^{2}\n",
    "\\end{pmatrix}\n",
    "\\begin{pmatrix}\n",
    "logS(0,\\mathbf{0})\\\\ \n",
    "D_{xx}\\\\ \n",
    "D_{xy}\\\\ \n",
    "D_{xz}\\\\ \n",
    "D_{yy}\\\\ \n",
    "D_{yz}\\\\ \n",
    "D_{zz}\n",
    "\\end{pmatrix}\n",
    "$$\n",
    "\n",
    "where $n$ is the number of measurements. This is again ordinary least squares problem which can be solved with Moore-Penrose pseudoinverse.\n",
    "\n",
    "The elements of $D$ on the main diagonal show diffusivity in the $x$, $y$ and $z$ directions.\n",
    "\n",
    "The figure below demonstrates that the DT model achieves significantly lower error in the anisotropic regions than the simple diffusion model:\n",
    "\n",
    "![SIMPLE_DIFFUSION_MODEL_PERFORMANCE](./figures/diffusion_tensor_model_performance.png)"
   ]
  },
  {
   "cell_type": "code",
   "execution_count": null,
   "id": "e341998f",
   "metadata": {},
   "outputs": [],
   "source": []
  },
  {
   "cell_type": "code",
   "execution_count": null,
   "id": "59de3b89",
   "metadata": {},
   "outputs": [],
   "source": []
  },
  {
   "cell_type": "code",
   "execution_count": null,
   "id": "4a5db6d8",
   "metadata": {},
   "outputs": [],
   "source": []
  }
 ],
 "metadata": {
  "kernelspec": {
   "display_name": "Python 3 (ipykernel)",
   "language": "python",
   "name": "python3"
  },
  "language_info": {
   "codemirror_mode": {
    "name": "ipython",
    "version": 3
   },
   "file_extension": ".py",
   "mimetype": "text/x-python",
   "name": "python",
   "nbconvert_exporter": "python",
   "pygments_lexer": "ipython3",
   "version": "3.10.11"
  }
 },
 "nbformat": 4,
 "nbformat_minor": 5
}
